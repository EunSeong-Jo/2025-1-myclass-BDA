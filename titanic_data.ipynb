{
  "cells": [
    {
      "cell_type": "markdown",
      "metadata": {
        "id": "view-in-github",
        "colab_type": "text"
      },
      "source": [
        "<a href=\"https://colab.research.google.com/github/EunSeong-Jo/2025-1-myclass-BDA/blob/main/titanic_data.ipynb\" target=\"_parent\"><img src=\"https://colab.research.google.com/assets/colab-badge.svg\" alt=\"Open In Colab\"/></a>"
      ]
    },
    {
      "cell_type": "markdown",
      "id": "91d534b3",
      "metadata": {
        "id": "91d534b3"
      },
      "source": [
        "### CRISP-DM 프로세스를 이용한 타이타닉호 데이터 분석"
      ]
    },
    {
      "cell_type": "markdown",
      "id": "4a982d9c",
      "metadata": {
        "id": "4a982d9c"
      },
      "source": [
        "#### CRISP-DM 프로세스란?\n",
        "\n",
        "<span style=\"font-size:20px;\"> CRISP-DM(Cross Industry Standard Process for Data Mining) <br>\n",
        "<span style=\"font-size:18px;\"> 데이터 분석과 데이터 마이닝 분야에서 가장 널리 사용되는 표준 프로세스입니다.  \n",
        "<span style=\"font-size:18px;\"> 총 6단계로 이루어져 있으며, 실제 산업, 학계, 공모전 등에서 데이터 분석 프로젝트의 기본 뼈대 역할을 합니다.\n",
        "\n",
        "---\n",
        "\n",
        "##### 1. 비즈니스 이해 (Business Understanding)\n",
        "- <span style=\"font-size:18px;\"> 분석의 목적과 배경, 해결하고자 하는 비즈니스 문제를 명확히 정의합니다.\n",
        "- <span style=\"font-size:18px;\"> 목표 설정 및 프로젝트의 성공 기준을 결정합니다.\n",
        "\n",
        "##### 2. 데이터 이해 (Data Understanding)\n",
        "- <span style=\"font-size:18px;\"> 관련 데이터를 수집하고, 데이터의 구조, 특성, 품질을 파악합니다.\n",
        "- <span style=\"font-size:18px;\"> 데이터 탐색(EDA) 및 기본적인 통계/시각화를 통해 데이터에 대한 인사이트를 얻습니다.\n",
        "\n",
        "##### 3. 데이터 준비 (Data Preparation)\n",
        "- <span style=\"font-size:18px;\"> 분석에 필요한 데이터를 정제하고 가공합니다.\n",
        "- <span style=\"font-size:18px;\"> 결측치 및 이상치 처리, 변수 변환, 데이터 통합, 파생변수 생성 등을 수행합니다.\n",
        "\n",
        "##### 4. 모델링 (Modeling)\n",
        "- <span style=\"font-size:18px;\"> 다양한 분석 모델(머신러닝/통계모델 등)을 선택하고 적용합니다.\n",
        "- <span style=\"font-size:18px;\"> 모델의 파라미터를 튜닝하고, 최적의 모델을 선정합니다.\n",
        "\n",
        "##### 5. 평가 (Evaluation)\n",
        "- <span style=\"font-size:18px;\"> 모델의 성능을 다양한 지표(정확도, 재현율 등)로 평가합니다.\n",
        "- <span style=\"font-size:18px;\"> 비즈니스 목표에 부합하는지 해석하고, 모델 결과를 검증합니다.\n",
        "\n",
        "##### 6. 배포 (Deployment)\n",
        "- <span style=\"font-size:18px;\"> 분석 결과를 실제 업무에 적용하거나, 서비스/시스템에 반영합니다.\n",
        "- <span style=\"font-size:18px;\"> 분석 과정과 결과를 보고서, 대시보드, 프레젠테이션 등 다양한 형태로 공유합니다.\n",
        "\n",
        "---"
      ]
    },
    {
      "cell_type": "markdown",
      "id": "bc3061d6",
      "metadata": {
        "id": "bc3061d6"
      },
      "source": [
        "1. 비즈니스 이해\n",
        "\n",
        "<span style=\"font-size:18px;\"> 타이타닉호 데이터 분석을 통해 어떤 인사이트를 얻을 수 있는가?\n",
        "\n",
        "<span style=\"font-size:18px;\"> 만약 나였다면 타이타닉호에서 생존할 수 있는가?\n",
        "\n",
        "##### <b>분석 목표 : 생존 여부 및 확률 분석\n",
        "\n",
        "---"
      ]
    },
    {
      "cell_type": "markdown",
      "id": "9f8d8cb6",
      "metadata": {
        "id": "9f8d8cb6"
      },
      "source": [
        "2. 데이터 이해"
      ]
    },
    {
      "cell_type": "code",
      "execution_count": null,
      "id": "7966cd94",
      "metadata": {
        "id": "7966cd94"
      },
      "outputs": [],
      "source": [
        "import matplotlib.pyplot as plt\n",
        "\n",
        "# 한글 폰트 설정\n",
        "plt.rcParams['font.family'] = 'Malgun Gothic'\n",
        "plt.rcParams['axes.unicode_minus'] = False"
      ]
    },
    {
      "cell_type": "code",
      "execution_count": null,
      "id": "39b32ba1",
      "metadata": {
        "id": "39b32ba1"
      },
      "outputs": [],
      "source": [
        "import pandas as pd\n",
        "\n",
        "# 데이터 불러오기\n",
        "df = pd.read_csv(\"./titanic1309.csv\")"
      ]
    },
    {
      "cell_type": "code",
      "execution_count": null,
      "id": "229bd99f",
      "metadata": {
        "id": "229bd99f",
        "outputId": "bbde0f11-6421-4904-d570-ef3d903d45dc"
      },
      "outputs": [
        {
          "name": "stdout",
          "output_type": "stream",
          "text": [
            "   PassengerId  Survived  Pclass  \\\n",
            "0            1         0       3   \n",
            "1            2         1       1   \n",
            "2            3         1       3   \n",
            "\n",
            "                                                Name     Sex   Age  SibSp  \\\n",
            "0                            Braund, Mr. Owen Harris    male  22.0      1   \n",
            "1  Cumings, Mrs. John Bradley (Florence Briggs Th...  female  38.0      1   \n",
            "2                             Heikkinen, Miss. Laina  female  26.0      0   \n",
            "\n",
            "   Parch            Ticket     Fare Cabin Embarked  \n",
            "0      0         A/5 21171   7.2500   NaN        S  \n",
            "1      0          PC 17599  71.2833   C85        C  \n",
            "2      0  STON/O2. 3101282   7.9250   NaN        S  \n"
          ]
        }
      ],
      "source": [
        "# 데이터 상위 3개 행 미리보기\n",
        "print(df.head(3))"
      ]
    },
    {
      "cell_type": "code",
      "execution_count": null,
      "id": "a9080ce0",
      "metadata": {
        "id": "a9080ce0",
        "outputId": "bf4eed56-be60-460d-8572-af846adeea4b"
      },
      "outputs": [
        {
          "name": "stdout",
          "output_type": "stream",
          "text": [
            "       PassengerId     Survived       Pclass          Age        SibSp  \\\n",
            "count  1309.000000  1309.000000  1309.000000  1046.000000  1309.000000   \n",
            "mean    655.000000     0.377387     2.294882    29.881138     0.498854   \n",
            "std     378.020061     0.484918     0.837836    14.413493     1.041658   \n",
            "min       1.000000     0.000000     1.000000     0.170000     0.000000   \n",
            "25%     328.000000     0.000000     2.000000    21.000000     0.000000   \n",
            "50%     655.000000     0.000000     3.000000    28.000000     0.000000   \n",
            "75%     982.000000     1.000000     3.000000    39.000000     1.000000   \n",
            "max    1309.000000     1.000000     3.000000    80.000000     8.000000   \n",
            "\n",
            "             Parch         Fare  \n",
            "count  1309.000000  1308.000000  \n",
            "mean      0.385027    33.295479  \n",
            "std       0.865560    51.758668  \n",
            "min       0.000000     0.000000  \n",
            "25%       0.000000     7.895800  \n",
            "50%       0.000000    14.454200  \n",
            "75%       0.000000    31.275000  \n",
            "max       9.000000   512.329200  \n"
          ]
        }
      ],
      "source": [
        "# 주요 통계 요약\n",
        "# 평균 생존확률(Survived)은 약 38%\n",
        "print(df.describe())"
      ]
    },
    {
      "cell_type": "markdown",
      "id": "5e33abd7",
      "metadata": {
        "id": "5e33abd7"
      },
      "source": [
        "##### 총 12개 속성\n",
        "PassengerId (고유번호) <br>\n",
        "Survived (생존여부) - <b>분석 목표</b> <br>\n",
        "Pclass (객실 등급) <br>\n",
        "Name (이름) <br>\n",
        "Sex (성별) <br>\n",
        "Age (나이) <br>\n",
        "SibSp (형제자매, 배우자 수) <br>\n",
        "Parch (부모, 자녀 수) <br>\n",
        "Ticket (티켓 번호) <br>\n",
        "Fare (승선 요금) <br>\n",
        "Cabin (객실 번호) <br>\n",
        "Embarked (탑승 항구) <br>"
      ]
    },
    {
      "cell_type": "code",
      "execution_count": null,
      "id": "1e487799",
      "metadata": {
        "id": "1e487799",
        "outputId": "4b63f1f7-7412-4504-bc1a-3352a9c32229"
      },
      "outputs": [
        {
          "name": "stdout",
          "output_type": "stream",
          "text": [
            "<class 'pandas.core.frame.DataFrame'>\n",
            "RangeIndex: 1309 entries, 0 to 1308\n",
            "Data columns (total 12 columns):\n",
            " #   Column       Non-Null Count  Dtype  \n",
            "---  ------       --------------  -----  \n",
            " 0   PassengerId  1309 non-null   int64  \n",
            " 1   Survived     1309 non-null   int64  \n",
            " 2   Pclass       1309 non-null   int64  \n",
            " 3   Name         1309 non-null   object \n",
            " 4   Sex          1309 non-null   object \n",
            " 5   Age          1046 non-null   float64\n",
            " 6   SibSp        1309 non-null   int64  \n",
            " 7   Parch        1309 non-null   int64  \n",
            " 8   Ticket       1309 non-null   object \n",
            " 9   Fare         1308 non-null   float64\n",
            " 10  Cabin        295 non-null    object \n",
            " 11  Embarked     1307 non-null   object \n",
            "dtypes: float64(2), int64(5), object(5)\n",
            "memory usage: 122.8+ KB\n",
            "None\n"
          ]
        }
      ],
      "source": [
        "# 데이터 요약 정보 (컬럼, 결측치, 타입 등)\n",
        "print(df.info())"
      ]
    },
    {
      "cell_type": "code",
      "execution_count": null,
      "id": "8e2a072b",
      "metadata": {
        "id": "8e2a072b",
        "outputId": "8689f44d-b58e-4ecd-ee54-5f69e8d4f43a"
      },
      "outputs": [
        {
          "name": "stdout",
          "output_type": "stream",
          "text": [
            "PassengerId       0\n",
            "Survived          0\n",
            "Pclass            0\n",
            "Name              0\n",
            "Sex               0\n",
            "Age             263\n",
            "SibSp             0\n",
            "Parch             0\n",
            "Ticket            0\n",
            "Fare              1\n",
            "Cabin          1014\n",
            "Embarked          2\n",
            "dtype: int64\n"
          ]
        }
      ],
      "source": [
        "# 결측치 확인\n",
        "print(df.isnull().sum())"
      ]
    },
    {
      "cell_type": "code",
      "execution_count": null,
      "id": "d7051711",
      "metadata": {
        "id": "d7051711",
        "outputId": "11b3ff48-5b57-411d-cb9a-464a220e474a"
      },
      "outputs": [
        {
          "data": {
            "text/plain": [
              "<Axes: >"
            ]
          },
          "execution_count": 7,
          "metadata": {},
          "output_type": "execute_result"
        },
        {
          "data": {
            "image/png": "[encoded data removed]",
            "text/plain": [
              "<Figure size 1200x500 with 2 Axes>"
            ]
          },
          "metadata": {},
          "output_type": "display_data"
        }
      ],
      "source": [
        "import missingno as msno\n",
        "\n",
        "# 그래프 크기 (12, 5)로 설정\n",
        "msno.matrix(df, figsize=(12, 5))"
      ]
    },
    {
      "cell_type": "code",
      "execution_count": null,
      "id": "c848114a",
      "metadata": {
        "id": "c848114a",
        "outputId": "00d2590f-b2bc-48f1-b5ec-b8fb2abcfad5"
      },
      "outputs": [
        {
          "name": "stdout",
          "output_type": "stream",
          "text": [
            "PassengerId   -0.020370\n",
            "Survived       1.000000\n",
            "Pclass        -0.264710\n",
            "Age           -0.053695\n",
            "SibSp          0.002370\n",
            "Parch          0.108919\n",
            "Fare           0.233622\n",
            "Name: Survived, dtype: float64\n"
          ]
        }
      ],
      "source": [
        "# 상관계수 분석을 통해 결측치 처리여부 결정\n",
        "# 생존률에 대한 상관계수\n",
        "print(df.corr(numeric_only=True)['Survived'])"
      ]
    },
    {
      "cell_type": "code",
      "execution_count": null,
      "id": "8ff0f676",
      "metadata": {
        "id": "8ff0f676",
        "outputId": "0bb7053c-26e2-4511-ca68-c8a10673d812"
      },
      "outputs": [
        {
          "name": "stdout",
          "output_type": "stream",
          "text": [
            "   Sex  Embarked\n",
            "0    0       2.0\n",
            "1    1       0.0\n",
            "2    1       2.0\n",
            "3    1       2.0\n",
            "4    0       2.0\n"
          ]
        }
      ],
      "source": [
        "# 상관계수 측정은 수치형 변수만 가능함으로 범주형 변수를 수치형으로 변환\n",
        "# 컬럼의 개수가 많아지는 것을 우려해 원핫 인코딩이 아닌 단순 대입 방식을 사용\n",
        "\n",
        "# 1. 성별(Sex) : male=0, female=1로 변환\n",
        "df['Sex'] = df['Sex'].map({'male': 0, 'female': 1})\n",
        "\n",
        "# 2. 탑승항구(Embarked) : C=0, Q=1, S=2로 변환\n",
        "df['Embarked'] = df['Embarked'].map({'C': 0, 'Q': 1, 'S': 2})\n",
        "\n",
        "# 변환 결과 미리보기\n",
        "print(df[['Sex', 'Embarked']].head())"
      ]
    },
    {
      "cell_type": "code",
      "execution_count": null,
      "id": "c54eeeb6",
      "metadata": {
        "id": "c54eeeb6",
        "outputId": "86a24e54-acd5-48b4-e6df-3af2ce2d28d9"
      },
      "outputs": [
        {
          "data": {
            "text/plain": [
              "Name\n",
              "Connolly, Miss. Kate                                               2\n",
              "Kelly, Mr. James                                                   2\n",
              "Bonnell, Miss. Elizabeth                                           1\n",
              "Peter, Master. Michael J                                           1\n",
              "Braund, Mr. Owen Harris                                            1\n",
              "                                                                  ..\n",
              "Frolicher-Stehli, Mrs. Maxmillian (Margaretha Emerentia Stehli)    1\n",
              "Larsson-Rondberg, Mr. Edvard A                                     1\n",
              "Conlon, Mr. Thomas Henry                                           1\n",
              "Bonnell, Miss. Caroline                                            1\n",
              "Gibson, Miss. Dorothy Winifred                                     1\n",
              "Name: count, Length: 1307, dtype: int64"
            ]
          },
          "execution_count": 10,
          "metadata": {},
          "output_type": "execute_result"
        }
      ],
      "source": [
        "# object 타입중 'Name', 'Ticket', 'Cabin' 항목은 명확한 분류 기준이 없는 데이터로 수치형 변수로 변환하기 부적합\n",
        "\n",
        "df['Name'].value_counts()"
      ]
    },
    {
      "cell_type": "code",
      "execution_count": null,
      "id": "9b74fb7d",
      "metadata": {
        "id": "9b74fb7d",
        "outputId": "bab09a98-353f-4ca1-e85c-bbbe9f0f4b4b"
      },
      "outputs": [
        {
          "data": {
            "text/plain": [
              "Ticket\n",
              "CA. 2343        11\n",
              "1601             8\n",
              "CA 2144          8\n",
              "347082           7\n",
              "S.O.C. 14879     7\n",
              "Name: count, dtype: int64"
            ]
          },
          "execution_count": 11,
          "metadata": {},
          "output_type": "execute_result"
        }
      ],
      "source": [
        "df['Ticket'].value_counts().head(5)"
      ]
    },
    {
      "cell_type": "code",
      "execution_count": null,
      "id": "f6de43d1",
      "metadata": {
        "id": "f6de43d1",
        "outputId": "d10897db-2544-48ed-c357-9d91285e4705"
      },
      "outputs": [
        {
          "data": {
            "text/plain": [
              "Cabin\n",
              "C23 C25 C27        6\n",
              "G6                 5\n",
              "B57 B59 B63 B66    5\n",
              "F33                4\n",
              "F4                 4\n",
              "Name: count, dtype: int64"
            ]
          },
          "execution_count": 12,
          "metadata": {},
          "output_type": "execute_result"
        }
      ],
      "source": [
        "df['Cabin'].value_counts().head(5)"
      ]
    },
    {
      "cell_type": "code",
      "execution_count": null,
      "id": "a5e78bd4",
      "metadata": {
        "id": "a5e78bd4",
        "outputId": "95e82c5d-bdba-4e61-9641-1504a38c2190"
      },
      "outputs": [
        {
          "name": "stdout",
          "output_type": "stream",
          "text": [
            "PassengerId   -0.020370\n",
            "Survived       1.000000\n",
            "Pclass        -0.264710\n",
            "Sex            0.688371\n",
            "Age           -0.053695\n",
            "SibSp          0.002370\n",
            "Parch          0.108919\n",
            "Fare           0.233622\n",
            "Embarked      -0.136574\n",
            "Name: Survived, dtype: float64\n"
          ]
        }
      ],
      "source": [
        "# 다시 한번 상관계수\n",
        "print(df.corr(numeric_only=True)['Survived'])"
      ]
    },
    {
      "cell_type": "code",
      "execution_count": null,
      "id": "3b134dfb",
      "metadata": {
        "id": "3b134dfb",
        "outputId": "ba4bb933-e81b-4fc2-afde-7cc3e145616e"
      },
      "outputs": [
        {
          "name": "stdout",
          "output_type": "stream",
          "text": [
            "0    22.0\n",
            "1    38.0\n",
            "2    26.0\n",
            "3    35.0\n",
            "4    35.0\n",
            "5     NaN\n",
            "6    54.0\n",
            "7     2.0\n",
            "8    27.0\n",
            "9    14.0\n",
            "Name: Age, dtype: float64\n"
          ]
        }
      ],
      "source": [
        "# 생존확률에 나이는 중요한 변수 같은데 생각보다 생존과 연관성이 적게 나옴\n",
        "# 생존확률과 나이를 그래프로 표현하여 상관관계를 예측\n",
        "print(df['Age'].head(10))"
      ]
    },
    {
      "cell_type": "code",
      "execution_count": null,
      "id": "ddadd2b5",
      "metadata": {
        "id": "ddadd2b5",
        "outputId": "ddb6213e-8482-4979-8a71-3e6779acea1f"
      },
      "outputs": [
        {
          "name": "stdout",
          "output_type": "stream",
          "text": [
            "최대값 :  80.0\n",
            "최소값 :  0.17\n"
          ]
        }
      ],
      "source": [
        "# 나이대 구간을 나누기 위한 최대값, 최소값 탐색\n",
        "print(\"최대값 : \" , df['Age'].max())\n",
        "print(\"최소값 : \" , df['Age'].min())"
      ]
    },
    {
      "cell_type": "code",
      "execution_count": null,
      "id": "12b86179",
      "metadata": {
        "id": "12b86179",
        "outputId": "c08ae161-c714-4fb8-b8f5-50dae466830f"
      },
      "outputs": [
        {
          "name": "stderr",
          "output_type": "stream",
          "text": [
            "C:\\Users\\asus\\AppData\\Local\\Temp\\ipykernel_39732\\1800241006.py:10: FutureWarning: The default of observed=False is deprecated and will be changed to True in a future version of pandas. Pass observed=False to retain current behavior or observed=True to adopt the future default and silence this warning.\n",
            "  agegroup_survival = df_age.groupby('AgeGroup')['Survived'].mean()\n"
          ]
        },
        {
          "data": {
            "image/png": "[encoded data removed]",
            "text/plain": [
              "<Figure size 800x500 with 1 Axes>"
            ]
          },
          "metadata": {},
          "output_type": "display_data"
        }
      ],
      "source": [
        "# Age가 결측치가 아닌 데이터만 사용\n",
        "df_age = df[df['Age'].notna()].copy()\n",
        "\n",
        "# 나이 구간 설정\n",
        "bins = [0, 13, 30, 50, 80]\n",
        "labels = ['유년', '청년', '중년', '노년']\n",
        "df_age['AgeGroup'] = pd.cut(df_age['Age'], bins=bins, labels=labels, right=False)\n",
        "\n",
        "# 각 나이구간별 생존률 계산\n",
        "agegroup_survival = df_age.groupby('AgeGroup')['Survived'].mean()\n",
        "\n",
        "# 시각화 (그래프에 생존률 수치 표시)\n",
        "ax = agegroup_survival.plot(kind='bar', rot=0, figsize=(8,5))\n",
        "plt.title('나이 구간별 생존률')\n",
        "plt.xlabel('나이 구간')\n",
        "plt.ylabel('생존률')\n",
        "plt.ylim(0, 1)\n",
        "\n",
        "for idx, value in enumerate(agegroup_survival):\n",
        "    plt.text(idx, value + 0.03, f\"{value:.2f}\", ha='center', va='bottom', fontsize=10)\n",
        "\n",
        "plt.tight_layout()\n",
        "plt.show();"
      ]
    },
    {
      "cell_type": "markdown",
      "id": "731fc825",
      "metadata": {
        "id": "731fc825"
      },
      "source": [
        "만약 생존률과 나이의 상관관계가 없다면 각 세대별 생존확률이 평균 생존확률(38%)로 일정해야함\n",
        "\n",
        "유년기(0~12세)의 생존확률이 상대적으로 높은것으로 보아 나이는 생존률과 연관이 있다고 볼 수 있음"
      ]
    },
    {
      "cell_type": "code",
      "execution_count": null,
      "id": "31d231b6",
      "metadata": {
        "id": "31d231b6",
        "outputId": "9dc7e119-de7e-4c28-9b1a-bafbc869326c"
      },
      "outputs": [
        {
          "name": "stdout",
          "output_type": "stream",
          "text": [
            "객실 등급 생존률(%)\n",
            "Pclass\n",
            "1    57.59%\n",
            "2    42.24%\n",
            "3    26.94%\n",
            "Name: Survived, dtype: object\n"
          ]
        }
      ],
      "source": [
        "# 상관계수가 상대적으로 높은 항목에 대해 생존률 분석\n",
        "# 나이 구간별 생존률은 완료, Pclass(객실 등급), Sex(성별), Fare(승선 요금)에 대한 생존률 분석\n",
        "\n",
        "print(\"객실 등급 생존률(%)\")\n",
        "print((df.groupby('Pclass')['Survived'].mean() * 100).round(2).astype(str) + '%')"
      ]
    },
    {
      "cell_type": "code",
      "execution_count": null,
      "id": "59a519da",
      "metadata": {
        "id": "59a519da",
        "outputId": "d90eb8cd-061f-4cd3-db32-bf70e86b3a3b"
      },
      "outputs": [
        {
          "name": "stdout",
          "output_type": "stream",
          "text": [
            "성별 생존률(%)\n",
            "Sex\n",
            "0    12.93%\n",
            "1    82.62%\n",
            "Name: Survived, dtype: object\n"
          ]
        }
      ],
      "source": [
        "print(\"성별 생존률(%)\")\n",
        "print((df.groupby('Sex')['Survived'].mean() * 100).round(2).astype(str) + '%')"
      ]
    },
    {
      "cell_type": "code",
      "execution_count": null,
      "id": "9ab98af3",
      "metadata": {
        "id": "9ab98af3",
        "outputId": "45add02a-209f-470f-dc73-b3c1861baa9b"
      },
      "outputs": [
        {
          "name": "stdout",
          "output_type": "stream",
          "text": [
            "요금 구간별 생존률(%)\n",
            "FareGroup\n",
            "1분위    21.96%\n",
            "2분위    29.38%\n",
            "3분위    43.29%\n",
            "4분위    56.97%\n",
            "Name: Survived, dtype: object\n"
          ]
        },
        {
          "name": "stderr",
          "output_type": "stream",
          "text": [
            "C:\\Users\\asus\\AppData\\Local\\Temp\\ipykernel_39732\\4193377951.py:7: FutureWarning: The default of observed=False is deprecated and will be changed to True in a future version of pandas. Pass observed=False to retain current behavior or observed=True to adopt the future default and silence this warning.\n",
            "  print((df_fare.groupby('FareGroup')['Survived'].mean() * 100).round(2).astype(str) + '%')\n"
          ]
        }
      ],
      "source": [
        "# Fare를 분위수 기준 4개 구간으로 나누기\n",
        "# 1분위(0~25%), 2분위(25~50%), 3분위(50~75%), 4분위(75~100%)\n",
        "df_fare = df[df['Fare'].notna()].copy()\n",
        "df_fare['FareGroup'] = pd.qcut(df['Fare'], 4, labels=['1분위', '2분위', '3분위', '4분위'])\n",
        "\n",
        "print(\"요금 구간별 생존률(%)\")\n",
        "print((df_fare.groupby('FareGroup')['Survived'].mean() * 100).round(2).astype(str) + '%')"
      ]
    },
    {
      "cell_type": "code",
      "execution_count": null,
      "id": "ae9745be",
      "metadata": {
        "id": "ae9745be",
        "outputId": "f20c664f-3298-4d76-dd38-cd0c1492a755"
      },
      "outputs": [
        {
          "data": {
            "image/png": "[encoded data removed]",
            "text/plain": [
              "<Figure size 1600x400 with 4 Axes>"
            ]
          },
          "metadata": {},
          "output_type": "display_data"
        }
      ],
      "source": [
        "import matplotlib.pyplot as plt\n",
        "\n",
        "# 1행 4열(총 4칸)\n",
        "fig, axes = plt.subplots(1, 4, figsize=(16, 4))\n",
        "axes = axes.flatten()\n",
        "\n",
        "# 1. Pclass\n",
        "df['Pclass'].value_counts().sort_index().plot(kind='bar', ax=axes[0])\n",
        "axes[0].set_title('객실 등급')\n",
        "axes[0].set_xlabel('')\n",
        "axes[0].set_ylabel('승객 수')\n",
        "\n",
        "# 2. Sex\n",
        "df['Sex'].value_counts().plot(kind='bar', ax=axes[1])\n",
        "axes[1].set_title('성별 (0:남성, 1:여성)')\n",
        "axes[1].set_xlabel('')\n",
        "\n",
        "# 3. Fare\n",
        "df['Fare'].hist(bins=30, ax=axes[2])\n",
        "axes[2].set_title('승선 요금')\n",
        "axes[2].set_xlabel('')\n",
        "\n",
        "# 4. Age\n",
        "df['Age'].hist(bins=30, ax=axes[3])\n",
        "axes[3].set_title('나이 분포')\n",
        "axes[3].set_xlabel('')\n",
        "\n",
        "plt.tight_layout()\n",
        "plt.show();"
      ]
    },
    {
      "cell_type": "markdown",
      "id": "069cf9ec",
      "metadata": {
        "id": "069cf9ec"
      },
      "source": [
        "3. 데이터 준비"
      ]
    },
    {
      "cell_type": "code",
      "execution_count": null,
      "id": "b9234257",
      "metadata": {
        "id": "b9234257",
        "outputId": "aa3aff3e-2255-43a2-8f43-80029a2e184c"
      },
      "outputs": [
        {
          "name": "stdout",
          "output_type": "stream",
          "text": [
            "PassengerId       0\n",
            "Survived          0\n",
            "Pclass            0\n",
            "Name              0\n",
            "Sex               0\n",
            "Age             263\n",
            "SibSp             0\n",
            "Parch             0\n",
            "Ticket            0\n",
            "Fare              1\n",
            "Cabin          1014\n",
            "Embarked          2\n",
            "dtype: int64\n"
          ]
        }
      ],
      "source": [
        "print(df.isnull().sum())"
      ]
    },
    {
      "cell_type": "code",
      "execution_count": null,
      "id": "3cd61009",
      "metadata": {
        "id": "3cd61009",
        "outputId": "0d0dbdab-569c-46ce-be78-87429dfe870d"
      },
      "outputs": [
        {
          "name": "stdout",
          "output_type": "stream",
          "text": [
            "평균값 :  29.881137667304014\n",
            "중앙값 :  28.0\n"
          ]
        }
      ],
      "source": [
        "# Age(나이) 항목이 생존률과 연관되어 있는걸 확인했기 때문에 해당 속성을 예측에 사용할 수 있게 결측치를 채워줌\n",
        "\n",
        "# Age 결측치을 채우기 위한 평균값, 중간값 구하기\n",
        "print(\"평균값 : \" , df['Age'].mean())\n",
        "print(\"중앙값 : \" , df['Age'].median())"
      ]
    },
    {
      "cell_type": "code",
      "execution_count": null,
      "id": "7a089cd7",
      "metadata": {
        "id": "7a089cd7"
      },
      "outputs": [],
      "source": [
        "# Age 결측치 중간값으로 채우기\n",
        "df['Age'] = df['Age'].fillna(df['Age'].median())"
      ]
    },
    {
      "cell_type": "code",
      "execution_count": null,
      "id": "531f0aff",
      "metadata": {
        "id": "531f0aff"
      },
      "outputs": [],
      "source": [
        "# Embarked 결측치(2개) 최빈값으로 채우기\n",
        "df['Embarked'] = df['Embarked'].fillna(df['Embarked'].mode()[0])"
      ]
    },
    {
      "cell_type": "code",
      "execution_count": null,
      "id": "fd630d27",
      "metadata": {
        "id": "fd630d27"
      },
      "outputs": [],
      "source": [
        "# Fare 결측치(1개) 중앙값으로 채우기\n",
        "df['Fare'] = df['Fare'].fillna(df['Fare'].median())"
      ]
    },
    {
      "cell_type": "code",
      "execution_count": null,
      "id": "65ea88fb",
      "metadata": {
        "id": "65ea88fb",
        "outputId": "1440a092-99ec-4dd2-ddc4-22ad8f5f253c"
      },
      "outputs": [
        {
          "name": "stdout",
          "output_type": "stream",
          "text": [
            "    Pclass        Cabin\n",
            "1        1          C85\n",
            "3        1         C123\n",
            "6        1          E46\n",
            "10       3           G6\n",
            "11       1         C103\n",
            "21       2          D56\n",
            "23       1           A6\n",
            "27       1  C23 C25 C27\n",
            "31       1          B78\n",
            "52       1          D33\n"
          ]
        }
      ],
      "source": [
        "# 객실 등급(Pclass)과 객실 번호(Cabin)의 연관성\n",
        "print(df[['Pclass', 'Cabin']].dropna().head(10))"
      ]
    },
    {
      "cell_type": "markdown",
      "id": "10b79ed8",
      "metadata": {
        "id": "10b79ed8"
      },
      "source": [
        "titanic.png"
      ]
    },
    {
      "cell_type": "code",
      "execution_count": null,
      "id": "ecddaf62",
      "metadata": {
        "id": "ecddaf62"
      },
      "outputs": [],
      "source": [
        "# 객실 번호는 객실 등급 항목으로 대체될 수 있음 (번호 앞자리가 C이면 1등급)\n",
        "# 객실 번호는 수치적 의미가 없고 결측치 비율이 높기 때문에 제거\n",
        "df = df.drop('Cabin', axis=1)"
      ]
    },
    {
      "cell_type": "code",
      "execution_count": null,
      "id": "d2491fc4",
      "metadata": {
        "id": "d2491fc4",
        "outputId": "e5adddd5-cb3a-4f83-d51c-f747d9108b24"
      },
      "outputs": [
        {
          "name": "stdout",
          "output_type": "stream",
          "text": [
            "<class 'pandas.core.frame.DataFrame'>\n",
            "RangeIndex: 1309 entries, 0 to 1308\n",
            "Data columns (total 11 columns):\n",
            " #   Column       Non-Null Count  Dtype  \n",
            "---  ------       --------------  -----  \n",
            " 0   PassengerId  1309 non-null   int64  \n",
            " 1   Survived     1309 non-null   int64  \n",
            " 2   Pclass       1309 non-null   int64  \n",
            " 3   Name         1309 non-null   object \n",
            " 4   Sex          1309 non-null   int64  \n",
            " 5   Age          1309 non-null   float64\n",
            " 6   SibSp        1309 non-null   int64  \n",
            " 7   Parch        1309 non-null   int64  \n",
            " 8   Ticket       1309 non-null   object \n",
            " 9   Fare         1309 non-null   float64\n",
            " 10  Embarked     1309 non-null   float64\n",
            "dtypes: float64(3), int64(6), object(2)\n",
            "memory usage: 112.6+ KB\n"
          ]
        }
      ],
      "source": [
        "# 결측값이 없고 객실 등급(Cabin)이 제거된 데이터 셋\n",
        "df.info()"
      ]
    },
    {
      "cell_type": "code",
      "execution_count": null,
      "id": "d3b581d5",
      "metadata": {
        "id": "d3b581d5"
      },
      "outputs": [],
      "source": [
        "# 학습을 위해 object 항목인 Name과 Ticket 항목을 제거\n",
        "df = df.drop(['Name', 'Ticket'], axis=1)"
      ]
    },
    {
      "cell_type": "code",
      "execution_count": null,
      "id": "6e8c20ce",
      "metadata": {
        "id": "6e8c20ce",
        "outputId": "c6aed3c8-dc06-47dd-ce21-d9f16ba88cb4"
      },
      "outputs": [
        {
          "name": "stdout",
          "output_type": "stream",
          "text": [
            "<class 'pandas.core.frame.DataFrame'>\n",
            "RangeIndex: 1309 entries, 0 to 1308\n",
            "Data columns (total 9 columns):\n",
            " #   Column       Non-Null Count  Dtype  \n",
            "---  ------       --------------  -----  \n",
            " 0   PassengerId  1309 non-null   int64  \n",
            " 1   Survived     1309 non-null   int64  \n",
            " 2   Pclass       1309 non-null   int64  \n",
            " 3   Sex          1309 non-null   int64  \n",
            " 4   Age          1309 non-null   float64\n",
            " 5   SibSp        1309 non-null   int64  \n",
            " 6   Parch        1309 non-null   int64  \n",
            " 7   Fare         1309 non-null   float64\n",
            " 8   Embarked     1309 non-null   float64\n",
            "dtypes: float64(3), int64(6)\n",
            "memory usage: 92.2 KB\n"
          ]
        }
      ],
      "source": [
        "# 수치형 데이터가 남은 모습\n",
        "df.info()"
      ]
    },
    {
      "cell_type": "markdown",
      "id": "07ed9218",
      "metadata": {
        "id": "07ed9218"
      },
      "source": [
        "4. 모델링"
      ]
    },
    {
      "cell_type": "code",
      "execution_count": null,
      "id": "b3fcde3f",
      "metadata": {
        "id": "b3fcde3f"
      },
      "outputs": [],
      "source": [
        "from sklearn.model_selection import train_test_split\n",
        "\n",
        "# 종속변수와 독립변수 설정\n",
        "X = df.drop(['Survived', 'PassengerId'], axis=1)  # 필요 없는 컬럼 제거\n",
        "y = df['Survived']\n",
        "\n",
        "# 학습용/테스트용 데이터셋 분리 (예: 80:20)\n",
        "X_train, X_test, y_train, y_test = train_test_split(X, y, test_size=0.2)"
      ]
    },
    {
      "cell_type": "code",
      "execution_count": null,
      "id": "3f8e107a",
      "metadata": {
        "id": "3f8e107a",
        "outputId": "bb50687a-02ab-429e-9e81-ac5538f4ff34"
      },
      "outputs": [
        {
          "data": {
            "text/html": [
              "<style>#sk-container-id-1 {\n",
              "  /* Definition of color scheme common for light and dark mode */\n",
              "  --sklearn-color-text: black;\n",
              "  --sklearn-color-line: gray;\n",
              "  /* Definition of color scheme for unfitted estimators */\n",
              "  --sklearn-color-unfitted-level-0: #fff5e6;\n",
              "  --sklearn-color-unfitted-level-1: #f6e4d2;\n",
              "  --sklearn-color-unfitted-level-2: #ffe0b3;\n",
              "  --sklearn-color-unfitted-level-3: chocolate;\n",
              "  /* Definition of color scheme for fitted estimators */\n",
              "  --sklearn-color-fitted-level-0: #f0f8ff;\n",
              "  --sklearn-color-fitted-level-1: #d4ebff;\n",
              "  --sklearn-color-fitted-level-2: #b3dbfd;\n",
              "  --sklearn-color-fitted-level-3: cornflowerblue;\n",
              "\n",
              "  /* Specific color for light theme */\n",
              "  --sklearn-color-text-on-default-background: var(--sg-text-color, var(--theme-code-foreground, var(--jp-content-font-color1, black)));\n",
              "  --sklearn-color-background: var(--sg-background-color, var(--theme-background, var(--jp-layout-color0, white)));\n",
              "  --sklearn-color-border-box: var(--sg-text-color, var(--theme-code-foreground, var(--jp-content-font-color1, black)));\n",
              "  --sklearn-color-icon: #696969;\n",
              "\n",
              "  @media (prefers-color-scheme: dark) {\n",
              "    /* Redefinition of color scheme for dark theme */\n",
              "    --sklearn-color-text-on-default-background: var(--sg-text-color, var(--theme-code-foreground, var(--jp-content-font-color1, white)));\n",
              "    --sklearn-color-background: var(--sg-background-color, var(--theme-background, var(--jp-layout-color0, #111)));\n",
              "    --sklearn-color-border-box: var(--sg-text-color, var(--theme-code-foreground, var(--jp-content-font-color1, white)));\n",
              "    --sklearn-color-icon: #878787;\n",
              "  }\n",
              "}\n",
              "\n",
              "#sk-container-id-1 {\n",
              "  color: var(--sklearn-color-text);\n",
              "}\n",
              "\n",
              "#sk-container-id-1 pre {\n",
              "  padding: 0;\n",
              "}\n",
              "\n",
              "#sk-container-id-1 input.sk-hidden--visually {\n",
              "  border: 0;\n",
              "  clip: rect(1px 1px 1px 1px);\n",
              "  clip: rect(1px, 1px, 1px, 1px);\n",
              "  height: 1px;\n",
              "  margin: -1px;\n",
              "  overflow: hidden;\n",
              "  padding: 0;\n",
              "  position: absolute;\n",
              "  width: 1px;\n",
              "}\n",
              "\n",
              "#sk-container-id-1 div.sk-dashed-wrapped {\n",
              "  border: 1px dashed var(--sklearn-color-line);\n",
              "  margin: 0 0.4em 0.5em 0.4em;\n",
              "  box-sizing: border-box;\n",
              "  padding-bottom: 0.4em;\n",
              "  background-color: var(--sklearn-color-background);\n",
              "}\n",
              "\n",
              "#sk-container-id-1 div.sk-container {\n",
              "  /* jupyter's `normalize.less` sets `[hidden] { display: none; }`\n",
              "     but bootstrap.min.css set `[hidden] { display: none !important; }`\n",
              "     so we also need the `!important` here to be able to override the\n",
              "     default hidden behavior on the sphinx rendered scikit-learn.org.\n",
              "     See: https://github.com/scikit-learn/scikit-learn/issues/21755 */\n",
              "  display: inline-block !important;\n",
              "  position: relative;\n",
              "}\n",
              "\n",
              "#sk-container-id-1 div.sk-text-repr-fallback {\n",
              "  display: none;\n",
              "}\n",
              "\n",
              "div.sk-parallel-item,\n",
              "div.sk-serial,\n",
              "div.sk-item {\n",
              "  /* draw centered vertical line to link estimators */\n",
              "  background-image: linear-gradient(var(--sklearn-color-text-on-default-background), var(--sklearn-color-text-on-default-background));\n",
              "  background-size: 2px 100%;\n",
              "  background-repeat: no-repeat;\n",
              "  background-position: center center;\n",
              "}\n",
              "\n",
              "/* Parallel-specific style estimator block */\n",
              "\n",
              "#sk-container-id-1 div.sk-parallel-item::after {\n",
              "  content: \"\";\n",
              "  width: 100%;\n",
              "  border-bottom: 2px solid var(--sklearn-color-text-on-default-background);\n",
              "  flex-grow: 1;\n",
              "}\n",
              "\n",
              "#sk-container-id-1 div.sk-parallel {\n",
              "  display: flex;\n",
              "  align-items: stretch;\n",
              "  justify-content: center;\n",
              "  background-color: var(--sklearn-color-background);\n",
              "  position: relative;\n",
              "}\n",
              "\n",
              "#sk-container-id-1 div.sk-parallel-item {\n",
              "  display: flex;\n",
              "  flex-direction: column;\n",
              "}\n",
              "\n",
              "#sk-container-id-1 div.sk-parallel-item:first-child::after {\n",
              "  align-self: flex-end;\n",
              "  width: 50%;\n",
              "}\n",
              "\n",
              "#sk-container-id-1 div.sk-parallel-item:last-child::after {\n",
              "  align-self: flex-start;\n",
              "  width: 50%;\n",
              "}\n",
              "\n",
              "#sk-container-id-1 div.sk-parallel-item:only-child::after {\n",
              "  width: 0;\n",
              "}\n",
              "\n",
              "/* Serial-specific style estimator block */\n",
              "\n",
              "#sk-container-id-1 div.sk-serial {\n",
              "  display: flex;\n",
              "  flex-direction: column;\n",
              "  align-items: center;\n",
              "  background-color: var(--sklearn-color-background);\n",
              "  padding-right: 1em;\n",
              "  padding-left: 1em;\n",
              "}\n",
              "\n",
              "\n",
              "/* Toggleable style: style used for estimator/Pipeline/ColumnTransformer box that is\n",
              "clickable and can be expanded/collapsed.\n",
              "- Pipeline and ColumnTransformer use this feature and define the default style\n",
              "- Estimators will overwrite some part of the style using the `sk-estimator` class\n",
              "*/\n",
              "\n",
              "/* Pipeline and ColumnTransformer style (default) */\n",
              "\n",
              "#sk-container-id-1 div.sk-toggleable {\n",
              "  /* Default theme specific background. It is overwritten whether we have a\n",
              "  specific estimator or a Pipeline/ColumnTransformer */\n",
              "  background-color: var(--sklearn-color-background);\n",
              "}\n",
              "\n",
              "/* Toggleable label */\n",
              "#sk-container-id-1 label.sk-toggleable__label {\n",
              "  cursor: pointer;\n",
              "  display: block;\n",
              "  width: 100%;\n",
              "  margin-bottom: 0;\n",
              "  padding: 0.5em;\n",
              "  box-sizing: border-box;\n",
              "  text-align: center;\n",
              "}\n",
              "\n",
              "#sk-container-id-1 label.sk-toggleable__label-arrow:before {\n",
              "  /* Arrow on the left of the label */\n",
              "  content: \"▸\";\n",
              "  float: left;\n",
              "  margin-right: 0.25em;\n",
              "  color: var(--sklearn-color-icon);\n",
              "}\n",
              "\n",
              "#sk-container-id-1 label.sk-toggleable__label-arrow:hover:before {\n",
              "  color: var(--sklearn-color-text);\n",
              "}\n",
              "\n",
              "/* Toggleable content - dropdown */\n",
              "\n",
              "#sk-container-id-1 div.sk-toggleable__content {\n",
              "  max-height: 0;\n",
              "  max-width: 0;\n",
              "  overflow: hidden;\n",
              "  text-align: left;\n",
              "  /* unfitted */\n",
              "  background-color: var(--sklearn-color-unfitted-level-0);\n",
              "}\n",
              "\n",
              "#sk-container-id-1 div.sk-toggleable__content.fitted {\n",
              "  /* fitted */\n",
              "  background-color: var(--sklearn-color-fitted-level-0);\n",
              "}\n",
              "\n",
              "#sk-container-id-1 div.sk-toggleable__content pre {\n",
              "  margin: 0.2em;\n",
              "  border-radius: 0.25em;\n",
              "  color: var(--sklearn-color-text);\n",
              "  /* unfitted */\n",
              "  background-color: var(--sklearn-color-unfitted-level-0);\n",
              "}\n",
              "\n",
              "#sk-container-id-1 div.sk-toggleable__content.fitted pre {\n",
              "  /* unfitted */\n",
              "  background-color: var(--sklearn-color-fitted-level-0);\n",
              "}\n",
              "\n",
              "#sk-container-id-1 input.sk-toggleable__control:checked~div.sk-toggleable__content {\n",
              "  /* Expand drop-down */\n",
              "  max-height: 200px;\n",
              "  max-width: 100%;\n",
              "  overflow: auto;\n",
              "}\n",
              "\n",
              "#sk-container-id-1 input.sk-toggleable__control:checked~label.sk-toggleable__label-arrow:before {\n",
              "  content: \"▾\";\n",
              "}\n",
              "\n",
              "/* Pipeline/ColumnTransformer-specific style */\n",
              "\n",
              "#sk-container-id-1 div.sk-label input.sk-toggleable__control:checked~label.sk-toggleable__label {\n",
              "  color: var(--sklearn-color-text);\n",
              "  background-color: var(--sklearn-color-unfitted-level-2);\n",
              "}\n",
              "\n",
              "#sk-container-id-1 div.sk-label.fitted input.sk-toggleable__control:checked~label.sk-toggleable__label {\n",
              "  background-color: var(--sklearn-color-fitted-level-2);\n",
              "}\n",
              "\n",
              "/* Estimator-specific style */\n",
              "\n",
              "/* Colorize estimator box */\n",
              "#sk-container-id-1 div.sk-estimator input.sk-toggleable__control:checked~label.sk-toggleable__label {\n",
              "  /* unfitted */\n",
              "  background-color: var(--sklearn-color-unfitted-level-2);\n",
              "}\n",
              "\n",
              "#sk-container-id-1 div.sk-estimator.fitted input.sk-toggleable__control:checked~label.sk-toggleable__label {\n",
              "  /* fitted */\n",
              "  background-color: var(--sklearn-color-fitted-level-2);\n",
              "}\n",
              "\n",
              "#sk-container-id-1 div.sk-label label.sk-toggleable__label,\n",
              "#sk-container-id-1 div.sk-label label {\n",
              "  /* The background is the default theme color */\n",
              "  color: var(--sklearn-color-text-on-default-background);\n",
              "}\n",
              "\n",
              "/* On hover, darken the color of the background */\n",
              "#sk-container-id-1 div.sk-label:hover label.sk-toggleable__label {\n",
              "  color: var(--sklearn-color-text);\n",
              "  background-color: var(--sklearn-color-unfitted-level-2);\n",
              "}\n",
              "\n",
              "/* Label box, darken color on hover, fitted */\n",
              "#sk-container-id-1 div.sk-label.fitted:hover label.sk-toggleable__label.fitted {\n",
              "  color: var(--sklearn-color-text);\n",
              "  background-color: var(--sklearn-color-fitted-level-2);\n",
              "}\n",
              "\n",
              "/* Estimator label */\n",
              "\n",
              "#sk-container-id-1 div.sk-label label {\n",
              "  font-family: monospace;\n",
              "  font-weight: bold;\n",
              "  display: inline-block;\n",
              "  line-height: 1.2em;\n",
              "}\n",
              "\n",
              "#sk-container-id-1 div.sk-label-container {\n",
              "  text-align: center;\n",
              "}\n",
              "\n",
              "/* Estimator-specific */\n",
              "#sk-container-id-1 div.sk-estimator {\n",
              "  font-family: monospace;\n",
              "  border: 1px dotted var(--sklearn-color-border-box);\n",
              "  border-radius: 0.25em;\n",
              "  box-sizing: border-box;\n",
              "  margin-bottom: 0.5em;\n",
              "  /* unfitted */\n",
              "  background-color: var(--sklearn-color-unfitted-level-0);\n",
              "}\n",
              "\n",
              "#sk-container-id-1 div.sk-estimator.fitted {\n",
              "  /* fitted */\n",
              "  background-color: var(--sklearn-color-fitted-level-0);\n",
              "}\n",
              "\n",
              "/* on hover */\n",
              "#sk-container-id-1 div.sk-estimator:hover {\n",
              "  /* unfitted */\n",
              "  background-color: var(--sklearn-color-unfitted-level-2);\n",
              "}\n",
              "\n",
              "#sk-container-id-1 div.sk-estimator.fitted:hover {\n",
              "  /* fitted */\n",
              "  background-color: var(--sklearn-color-fitted-level-2);\n",
              "}\n",
              "\n",
              "/* Specification for estimator info (e.g. \"i\" and \"?\") */\n",
              "\n",
              "/* Common style for \"i\" and \"?\" */\n",
              "\n",
              ".sk-estimator-doc-link,\n",
              "a:link.sk-estimator-doc-link,\n",
              "a:visited.sk-estimator-doc-link {\n",
              "  float: right;\n",
              "  font-size: smaller;\n",
              "  line-height: 1em;\n",
              "  font-family: monospace;\n",
              "  background-color: var(--sklearn-color-background);\n",
              "  border-radius: 1em;\n",
              "  height: 1em;\n",
              "  width: 1em;\n",
              "  text-decoration: none !important;\n",
              "  margin-left: 1ex;\n",
              "  /* unfitted */\n",
              "  border: var(--sklearn-color-unfitted-level-1) 1pt solid;\n",
              "  color: var(--sklearn-color-unfitted-level-1);\n",
              "}\n",
              "\n",
              ".sk-estimator-doc-link.fitted,\n",
              "a:link.sk-estimator-doc-link.fitted,\n",
              "a:visited.sk-estimator-doc-link.fitted {\n",
              "  /* fitted */\n",
              "  border: var(--sklearn-color-fitted-level-1) 1pt solid;\n",
              "  color: var(--sklearn-color-fitted-level-1);\n",
              "}\n",
              "\n",
              "/* On hover */\n",
              "div.sk-estimator:hover .sk-estimator-doc-link:hover,\n",
              ".sk-estimator-doc-link:hover,\n",
              "div.sk-label-container:hover .sk-estimator-doc-link:hover,\n",
              ".sk-estimator-doc-link:hover {\n",
              "  /* unfitted */\n",
              "  background-color: var(--sklearn-color-unfitted-level-3);\n",
              "  color: var(--sklearn-color-background);\n",
              "  text-decoration: none;\n",
              "}\n",
              "\n",
              "div.sk-estimator.fitted:hover .sk-estimator-doc-link.fitted:hover,\n",
              ".sk-estimator-doc-link.fitted:hover,\n",
              "div.sk-label-container:hover .sk-estimator-doc-link.fitted:hover,\n",
              ".sk-estimator-doc-link.fitted:hover {\n",
              "  /* fitted */\n",
              "  background-color: var(--sklearn-color-fitted-level-3);\n",
              "  color: var(--sklearn-color-background);\n",
              "  text-decoration: none;\n",
              "}\n",
              "\n",
              "/* Span, style for the box shown on hovering the info icon */\n",
              ".sk-estimator-doc-link span {\n",
              "  display: none;\n",
              "  z-index: 9999;\n",
              "  position: relative;\n",
              "  font-weight: normal;\n",
              "  right: .2ex;\n",
              "  padding: .5ex;\n",
              "  margin: .5ex;\n",
              "  width: min-content;\n",
              "  min-width: 20ex;\n",
              "  max-width: 50ex;\n",
              "  color: var(--sklearn-color-text);\n",
              "  box-shadow: 2pt 2pt 4pt #999;\n",
              "  /* unfitted */\n",
              "  background: var(--sklearn-color-unfitted-level-0);\n",
              "  border: .5pt solid var(--sklearn-color-unfitted-level-3);\n",
              "}\n",
              "\n",
              ".sk-estimator-doc-link.fitted span {\n",
              "  /* fitted */\n",
              "  background: var(--sklearn-color-fitted-level-0);\n",
              "  border: var(--sklearn-color-fitted-level-3);\n",
              "}\n",
              "\n",
              ".sk-estimator-doc-link:hover span {\n",
              "  display: block;\n",
              "}\n",
              "\n",
              "/* \"?\"-specific style due to the `<a>` HTML tag */\n",
              "\n",
              "#sk-container-id-1 a.estimator_doc_link {\n",
              "  float: right;\n",
              "  font-size: 1rem;\n",
              "  line-height: 1em;\n",
              "  font-family: monospace;\n",
              "  background-color: var(--sklearn-color-background);\n",
              "  border-radius: 1rem;\n",
              "  height: 1rem;\n",
              "  width: 1rem;\n",
              "  text-decoration: none;\n",
              "  /* unfitted */\n",
              "  color: var(--sklearn-color-unfitted-level-1);\n",
              "  border: var(--sklearn-color-unfitted-level-1) 1pt solid;\n",
              "}\n",
              "\n",
              "#sk-container-id-1 a.estimator_doc_link.fitted {\n",
              "  /* fitted */\n",
              "  border: var(--sklearn-color-fitted-level-1) 1pt solid;\n",
              "  color: var(--sklearn-color-fitted-level-1);\n",
              "}\n",
              "\n",
              "/* On hover */\n",
              "#sk-container-id-1 a.estimator_doc_link:hover {\n",
              "  /* unfitted */\n",
              "  background-color: var(--sklearn-color-unfitted-level-3);\n",
              "  color: var(--sklearn-color-background);\n",
              "  text-decoration: none;\n",
              "}\n",
              "\n",
              "#sk-container-id-1 a.estimator_doc_link.fitted:hover {\n",
              "  /* fitted */\n",
              "  background-color: var(--sklearn-color-fitted-level-3);\n",
              "}\n",
              "</style><div id=\"sk-container-id-1\" class=\"sk-top-container\"><div class=\"sk-text-repr-fallback\"><pre>LogisticRegression(max_iter=200)</pre><b>In a Jupyter environment, please rerun this cell to show the HTML representation or trust the notebook. <br />On GitHub, the HTML representation is unable to render, please try loading this page with nbviewer.org.</b></div><div class=\"sk-container\" hidden><div class=\"sk-item\"><div class=\"sk-estimator fitted sk-toggleable\"><input class=\"sk-toggleable__control sk-hidden--visually\" id=\"sk-estimator-id-1\" type=\"checkbox\" checked><label for=\"sk-estimator-id-1\" class=\"sk-toggleable__label fitted sk-toggleable__label-arrow fitted\">&nbsp;&nbsp;LogisticRegression<a class=\"sk-estimator-doc-link fitted\" rel=\"noreferrer\" target=\"_blank\" href=\"https://scikit-learn.org/1.5/modules/generated/sklearn.linear_model.LogisticRegression.html\">?<span>Documentation for LogisticRegression</span></a><span class=\"sk-estimator-doc-link fitted\">i<span>Fitted</span></span></label><div class=\"sk-toggleable__content fitted\"><pre>LogisticRegression(max_iter=200)</pre></div> </div></div></div></div>"
            ],
            "text/plain": [
              "LogisticRegression(max_iter=200)"
            ]
          },
          "execution_count": 32,
          "metadata": {},
          "output_type": "execute_result"
        }
      ],
      "source": [
        "from sklearn.linear_model import LogisticRegression\n",
        "\n",
        "# 모델 생성 및 학습\n",
        "# max_iter : 반복 횟수\n",
        "model = LogisticRegression(max_iter=200)\n",
        "model.fit(X_train, y_train)"
      ]
    },
    {
      "cell_type": "markdown",
      "id": "08be8059",
      "metadata": {
        "id": "08be8059"
      },
      "source": [
        "5. 평가"
      ]
    },
    {
      "cell_type": "code",
      "execution_count": null,
      "id": "d72e3c9a",
      "metadata": {
        "id": "d72e3c9a",
        "outputId": "939dc940-0054-42db-c681-2e0c3d4b296e"
      },
      "outputs": [
        {
          "name": "stdout",
          "output_type": "stream",
          "text": [
            "정확도: 0.8549618320610687\n"
          ]
        }
      ],
      "source": [
        "from sklearn.metrics import accuracy_score\n",
        "\n",
        "# 예측\n",
        "y_pred = model.predict(X_test)\n",
        "\n",
        "# 정확도\n",
        "accuracy = accuracy_score(y_test, y_pred)\n",
        "print(\"정확도:\", accuracy)"
      ]
    },
    {
      "cell_type": "markdown",
      "id": "e3f05c85",
      "metadata": {
        "id": "e3f05c85"
      },
      "source": [
        "6. 배포"
      ]
    },
    {
      "cell_type": "code",
      "execution_count": null,
      "id": "8f1561ce",
      "metadata": {
        "id": "8f1561ce",
        "outputId": "d4752507-cdc4-4d32-83e5-e079774cfba6"
      },
      "outputs": [
        {
          "name": "stdout",
          "output_type": "stream",
          "text": [
            "25세 남성의 생존 확률 : 8.11% \n",
            "\n",
            "예측 결과: 사망\n"
          ]
        },
        {
          "name": "stderr",
          "output_type": "stream",
          "text": [
            "c:\\Users\\asus\\anaconda3\\envs\\dmu\\Lib\\site-packages\\sklearn\\base.py:493: UserWarning: X does not have valid feature names, but LogisticRegression was fitted with feature names\n",
            "  warnings.warn(\n",
            "c:\\Users\\asus\\anaconda3\\envs\\dmu\\Lib\\site-packages\\sklearn\\base.py:493: UserWarning: X does not have valid feature names, but LogisticRegression was fitted with feature names\n",
            "  warnings.warn(\n"
          ]
        }
      ],
      "source": [
        "import numpy as np\n",
        "\n",
        "# 사용자 입력\n",
        "input_age = int(input(\"나이를 입력하세요 : \"))\n",
        "input_sex_str = input(\"성별을 입력하세요 (남성 / 여성) : \")\n",
        "\n",
        "# 성별을 숫자로 변환 (0=남성, 1=여성)\n",
        "if input_sex_str == \"남성\":\n",
        "    input_sex = 0\n",
        "elif input_sex_str == \"여성\":\n",
        "    input_sex = 1\n",
        "else:\n",
        "    raise ValueError(\"성별은 '남성' 또는 '여성'만 입력하세요.\")\n",
        "\n",
        "# 나머지 항목은 중앙값으로 대체\n",
        "default_pclass = int(df['Pclass'].median())\n",
        "default_sibsp = int(df['SibSp'].median())\n",
        "default_parch = int(df['Parch'].median())\n",
        "default_fare = df['Fare'].median()\n",
        "default_embarked = int(df['Embarked'].median())\n",
        "\n",
        "# 예측에 사용할 입력 데이터 (순서: Pclass, Sex, Age, SibSp, Parch, Fare, Embarked)\n",
        "input_data = np.array([[default_pclass, input_sex, input_age, default_sibsp, default_parch, default_fare, default_embarked]])\n",
        "\n",
        "# 생존 확률 예측\n",
        "survival_prob = model.predict_proba(input_data)[0][1]\n",
        "print(f\"{input_age}세 {input_sex_str}의 생존 확률 : {survival_prob * 100:.2f}% \\n\")\n",
        "\n",
        "# 예측 결과\n",
        "prediction = model.predict(input_data)[0]\n",
        "\n",
        "if prediction == 1:\n",
        "    pred_str = \"생존\"\n",
        "else:\n",
        "    pred_str = \"사망\"\n",
        "\n",
        "print(f\"예측 결과: {pred_str}\")"
      ]
    }
  ],
  "metadata": {
    "kernelspec": {
      "display_name": "dmu",
      "language": "python",
      "name": "python3"
    },
    "language_info": {
      "codemirror_mode": {
        "name": "ipython",
        "version": 3
      },
      "file_extension": ".py",
      "mimetype": "text/x-python",
      "name": "python",
      "nbconvert_exporter": "python",
      "pygments_lexer": "ipython3",
      "version": "3.12.5"
    },
    "colab": {
      "provenance": [],
      "include_colab_link": true
    }
  },
  "nbformat": 4,
  "nbformat_minor": 5
}
