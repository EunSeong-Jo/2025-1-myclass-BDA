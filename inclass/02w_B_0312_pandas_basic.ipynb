{
  "cells": [
    {
      "cell_type": "markdown",
      "metadata": {
        "id": "view-in-github",
        "colab_type": "text"
      },
      "source": [
        "<a href=\"https://colab.research.google.com/github/EunSeong-Jo/2025-1-myclass-BDA/blob/main/inclass/02w_B_0312_pandas_basic.ipynb\" target=\"_parent\"><img src=\"https://colab.research.google.com/assets/colab-badge.svg\" alt=\"Open In Colab\"/></a>"
      ]
    },
    {
      "cell_type": "code",
      "execution_count": null,
      "metadata": {
        "id": "6UmxapuVvt52",
        "outputId": "8cc1f689-d45e-468a-853f-a748759479d4"
      },
      "outputs": [
        {
          "data": {
            "text/plain": [
              "aa    99\n",
              "bb    32\n",
              "cc    55\n",
              "dd    11\n",
              "ee    45\n",
              "dtype: int64"
            ]
          },
          "execution_count": 64,
          "metadata": {},
          "output_type": "execute_result"
        }
      ],
      "source": [
        "import numpy as np\n",
        "import pandas as pd\n",
        "\n",
        "s = ['aa', 'bb', 'cc', 'dd', 'ee']\n",
        "p = pd.Series([99, 32, 55, 11, 45], index = s)\n",
        "\n",
        "p"
      ]
    },
    {
      "cell_type": "code",
      "execution_count": null,
      "metadata": {
        "id": "QEolm4LEH1x2",
        "outputId": "4db21500-4a50-4379-86ec-1cfe130046ac"
      },
      "outputs": [
        {
          "data": {
            "text/plain": [
              "이름\n",
              "aa    99\n",
              "bb    32\n",
              "cc    55\n",
              "dd    11\n",
              "ee    45\n",
              "Name: 수학성적, dtype: int64"
            ]
          },
          "execution_count": 65,
          "metadata": {},
          "output_type": "execute_result"
        }
      ],
      "source": [
        "p.name = '수학성적'\n",
        "p.index.name = '이름'\n",
        "\n",
        "p"
      ]
    },
    {
      "cell_type": "code",
      "execution_count": null,
      "metadata": {
        "id": "CZEI_KjiH1x3",
        "outputId": "370a2b54-edf5-41af-da41-eaa5dcb4031d"
      },
      "outputs": [
        {
          "data": {
            "text/plain": [
              "이름\n",
              "dd    11\n",
              "bb    32\n",
              "ee    45\n",
              "cc    55\n",
              "aa    99\n",
              "Name: 수학성적, dtype: int64"
            ]
          },
          "execution_count": 66,
          "metadata": {},
          "output_type": "execute_result"
        }
      ],
      "source": [
        "p.sort_values()"
      ]
    },
    {
      "cell_type": "code",
      "execution_count": null,
      "metadata": {
        "id": "EHeADwSwH1x4",
        "outputId": "d02e4de3-90a0-473a-db0b-839f45561da0"
      },
      "outputs": [
        {
          "data": {
            "text/plain": [
              "이름\n",
              "aa    99\n",
              "cc    55\n",
              "ee    45\n",
              "bb    32\n",
              "dd    11\n",
              "Name: 수학성적, dtype: int64"
            ]
          },
          "execution_count": 67,
          "metadata": {},
          "output_type": "execute_result"
        }
      ],
      "source": [
        "p.sort_values(ascending=False)"
      ]
    },
    {
      "cell_type": "code",
      "execution_count": null,
      "metadata": {
        "id": "jq-Ln8yrH1x5",
        "outputId": "a4ede8c7-0868-4811-ee6d-67f1753c3c65"
      },
      "outputs": [
        {
          "data": {
            "text/plain": [
              "이름\n",
              "aa    99\n",
              "bb    32\n",
              "cc    55\n",
              "dd    11\n",
              "ee    45\n",
              "Name: 수학성적, dtype: int64"
            ]
          },
          "execution_count": 68,
          "metadata": {},
          "output_type": "execute_result"
        }
      ],
      "source": [
        "p.sort_index()"
      ]
    },
    {
      "cell_type": "code",
      "execution_count": null,
      "metadata": {
        "id": "BxBjd9sJH1x6",
        "outputId": "4f4ba9ac-04e2-451b-aae6-ff1dab0ce346"
      },
      "outputs": [
        {
          "data": {
            "text/plain": [
              "이름\n",
              "ee    45\n",
              "dd    11\n",
              "cc    55\n",
              "bb    32\n",
              "aa    99\n",
              "Name: 수학성적, dtype: int64"
            ]
          },
          "execution_count": 69,
          "metadata": {},
          "output_type": "execute_result"
        }
      ],
      "source": [
        "p.sort_index(ascending=False)"
      ]
    },
    {
      "cell_type": "markdown",
      "metadata": {
        "id": "-4nVKxk_H1x6"
      },
      "source": [
        "시리즈 기본 통계 함수"
      ]
    },
    {
      "cell_type": "code",
      "execution_count": null,
      "metadata": {
        "id": "RzmE1TMRH1x8",
        "outputId": "56fa63d1-ad83-4208-a8c6-7c551329206b"
      },
      "outputs": [
        {
          "name": "stdout",
          "output_type": "stream",
          "text": [
            "99\n",
            "11\n",
            "48.4\n",
            "45.0\n",
            "5\n",
            "5\n"
          ]
        }
      ],
      "source": [
        "print(p.max())\n",
        "print(p.min())\n",
        "print(p.mean())\n",
        "print(p.median())\n",
        "print(p.count())\n",
        "print(p.size)"
      ]
    },
    {
      "cell_type": "code",
      "execution_count": null,
      "metadata": {
        "id": "cTllgBpOH1x9",
        "outputId": "9be5bd64-14ff-40e1-910f-1a0e346bb7f5"
      },
      "outputs": [
        {
          "data": {
            "text/plain": [
              "count     5.000000\n",
              "mean     48.400000\n",
              "std      32.723081\n",
              "min      11.000000\n",
              "25%      32.000000\n",
              "50%      45.000000\n",
              "75%      55.000000\n",
              "max      99.000000\n",
              "Name: 수학성적, dtype: float64"
            ]
          },
          "execution_count": 71,
          "metadata": {},
          "output_type": "execute_result"
        }
      ],
      "source": [
        "p.describe()"
      ]
    },
    {
      "cell_type": "code",
      "execution_count": null,
      "metadata": {
        "id": "S-LrG8aHH1x9",
        "outputId": "3b451a56-1956-43e9-93b9-3f38b1612bc9"
      },
      "outputs": [
        {
          "data": {
            "text/plain": [
              "0    2.0\n",
              "1    3.0\n",
              "2    4.0\n",
              "3    NaN\n",
              "4    1.0\n",
              "5    1.0\n",
              "6    NaN\n",
              "dtype: float64"
            ]
          },
          "execution_count": 72,
          "metadata": {},
          "output_type": "execute_result"
        }
      ],
      "source": [
        "s = pd.Series([2, 3, 4, None, 1, 1, np.nan])\n",
        "\n",
        "s"
      ]
    },
    {
      "cell_type": "code",
      "execution_count": null,
      "metadata": {
        "id": "JLfppvVxH1x-",
        "outputId": "96df1293-280f-4131-c4b0-2fd62ce18828"
      },
      "outputs": [
        {
          "data": {
            "text/plain": [
              "array([ 2.,  3.,  4., nan,  1.,  1., nan])"
            ]
          },
          "execution_count": 73,
          "metadata": {},
          "output_type": "execute_result"
        }
      ],
      "source": [
        "s.values"
      ]
    },
    {
      "cell_type": "code",
      "execution_count": null,
      "metadata": {
        "id": "IQhAtrCzH1x-",
        "outputId": "33670286-10ea-40ac-8b5f-fff45ff34bb5"
      },
      "outputs": [
        {
          "data": {
            "text/plain": [
              "np.int64(5)"
            ]
          },
          "execution_count": 74,
          "metadata": {},
          "output_type": "execute_result"
        }
      ],
      "source": [
        "# nan 제외\n",
        "s.count()"
      ]
    },
    {
      "cell_type": "code",
      "execution_count": null,
      "metadata": {
        "id": "86p35VG2H1x_",
        "outputId": "716b3c09-0458-459a-d238-0f6674d86aed"
      },
      "outputs": [
        {
          "data": {
            "text/plain": [
              "1.0    2\n",
              "2.0    1\n",
              "3.0    1\n",
              "4.0    1\n",
              "Name: count, dtype: int64"
            ]
          },
          "execution_count": 75,
          "metadata": {},
          "output_type": "execute_result"
        }
      ],
      "source": [
        "s.value_counts()"
      ]
    },
    {
      "cell_type": "code",
      "execution_count": null,
      "metadata": {
        "id": "k9d0ELdFH1x_",
        "outputId": "c9c5a2dc-d0f2-4623-9547-ba3ab44dc522"
      },
      "outputs": [
        {
          "data": {
            "text/plain": [
              "1.0    2\n",
              "NaN    2\n",
              "2.0    1\n",
              "4.0    1\n",
              "3.0    1\n",
              "Name: count, dtype: int64"
            ]
          },
          "execution_count": 76,
          "metadata": {},
          "output_type": "execute_result"
        }
      ],
      "source": [
        "s.value_counts(dropna=False)"
      ]
    },
    {
      "cell_type": "code",
      "execution_count": null,
      "metadata": {
        "id": "C59TgwnuH1x_",
        "outputId": "d99def3d-e55d-4902-e77b-e869ac92243d"
      },
      "outputs": [
        {
          "data": {
            "text/plain": [
              "2.0    1\n",
              "3.0    1\n",
              "4.0    1\n",
              "NaN    2\n",
              "1.0    2\n",
              "Name: count, dtype: int64"
            ]
          },
          "execution_count": 77,
          "metadata": {},
          "output_type": "execute_result"
        }
      ],
      "source": [
        "s.value_counts(dropna=False, sort=False)"
      ]
    },
    {
      "cell_type": "code",
      "execution_count": null,
      "metadata": {
        "id": "Tdk1yxVLH1yA",
        "outputId": "289459b0-a9cf-4227-ece8-5ee41e5fa13d"
      },
      "outputs": [
        {
          "data": {
            "text/plain": [
              "(0.996, 1.3]    2\n",
              "(1.9, 2.2]      1\n",
              "(3.7, 4.0]      1\n",
              "(2.8, 3.1]      1\n",
              "(1.3, 1.6]      0\n",
              "(1.6, 1.9]      0\n",
              "(2.5, 2.8]      0\n",
              "(2.2, 2.5]      0\n",
              "(3.1, 3.4]      0\n",
              "(3.4, 3.7]      0\n",
              "Name: count, dtype: int64"
            ]
          },
          "execution_count": 78,
          "metadata": {},
          "output_type": "execute_result"
        }
      ],
      "source": [
        "s.value_counts(bins=10)"
      ]
    },
    {
      "cell_type": "code",
      "execution_count": null,
      "metadata": {
        "id": "ZlhyVNdVH1yA",
        "outputId": "95fa962e-d71a-4fcb-acf8-f5d6a064e34f"
      },
      "outputs": [
        {
          "data": {
            "text/plain": [
              "(0.996, 1.3]    2\n",
              "(1.3, 1.6]      0\n",
              "(1.6, 1.9]      0\n",
              "(1.9, 2.2]      1\n",
              "(2.2, 2.5]      0\n",
              "(2.5, 2.8]      0\n",
              "(2.8, 3.1]      1\n",
              "(3.1, 3.4]      0\n",
              "(3.4, 3.7]      0\n",
              "(3.7, 4.0]      1\n",
              "Name: count, dtype: int64"
            ]
          },
          "execution_count": 79,
          "metadata": {},
          "output_type": "execute_result"
        }
      ],
      "source": [
        "s.value_counts(bins=10, sort=False)"
      ]
    },
    {
      "cell_type": "code",
      "execution_count": null,
      "metadata": {
        "id": "kCJITKMWH1yA",
        "outputId": "d7174800-1caa-4faa-9130-3de69a5d36f9"
      },
      "outputs": [
        {
          "data": {
            "text/plain": [
              "(0.499, 1.5]    2\n",
              "(1.5, 2.0]      1\n",
              "Name: count, dtype: int64"
            ]
          },
          "execution_count": 80,
          "metadata": {},
          "output_type": "execute_result"
        }
      ],
      "source": [
        "s.value_counts(bins=[0.5, 1.5, 2], sort=False)"
      ]
    },
    {
      "cell_type": "markdown",
      "metadata": {
        "id": "Te9IueSiH1yA"
      },
      "source": [
        "데이터 프레임 다루기"
      ]
    },
    {
      "cell_type": "code",
      "execution_count": null,
      "metadata": {
        "id": "HqdAsJq9H1yA",
        "outputId": "a33034cc-9e43-4d19-a852-19a3c1dc2b15"
      },
      "outputs": [
        {
          "data": {
            "text/html": [
              "<div>\n",
              "<style scoped>\n",
              "    .dataframe tbody tr th:only-of-type {\n",
              "        vertical-align: middle;\n",
              "    }\n",
              "\n",
              "    .dataframe tbody tr th {\n",
              "        vertical-align: top;\n",
              "    }\n",
              "\n",
              "    .dataframe thead th {\n",
              "        text-align: right;\n",
              "    }\n",
              "</style>\n",
              "<table border=\"1\" class=\"dataframe\">\n",
              "  <thead>\n",
              "    <tr style=\"text-align: right;\">\n",
              "      <th></th>\n",
              "      <th>0</th>\n",
              "    </tr>\n",
              "  </thead>\n",
              "  <tbody>\n",
              "    <tr>\n",
              "      <th>0</th>\n",
              "      <td>10</td>\n",
              "    </tr>\n",
              "    <tr>\n",
              "      <th>1</th>\n",
              "      <td>22</td>\n",
              "    </tr>\n",
              "    <tr>\n",
              "      <th>2</th>\n",
              "      <td>30</td>\n",
              "    </tr>\n",
              "    <tr>\n",
              "      <th>3</th>\n",
              "      <td>42</td>\n",
              "    </tr>\n",
              "    <tr>\n",
              "      <th>4</th>\n",
              "      <td>56</td>\n",
              "    </tr>\n",
              "  </tbody>\n",
              "</table>\n",
              "</div>"
            ],
            "text/plain": [
              "    0\n",
              "0  10\n",
              "1  22\n",
              "2  30\n",
              "3  42\n",
              "4  56"
            ]
          },
          "execution_count": 81,
          "metadata": {},
          "output_type": "execute_result"
        }
      ],
      "source": [
        "import pandas as pd\n",
        "\n",
        "df = pd.DataFrame([10, 22, 30 , 42, 56])\n",
        "\n",
        "df"
      ]
    },
    {
      "cell_type": "code",
      "execution_count": null,
      "metadata": {
        "id": "2KH_S-6DH1yA",
        "outputId": "2ea40ae4-18e7-4ebd-9dc4-b88e38d631e6"
      },
      "outputs": [
        {
          "data": {
            "text/html": [
              "<div>\n",
              "<style scoped>\n",
              "    .dataframe tbody tr th:only-of-type {\n",
              "        vertical-align: middle;\n",
              "    }\n",
              "\n",
              "    .dataframe tbody tr th {\n",
              "        vertical-align: top;\n",
              "    }\n",
              "\n",
              "    .dataframe thead th {\n",
              "        text-align: right;\n",
              "    }\n",
              "</style>\n",
              "<table border=\"1\" class=\"dataframe\">\n",
              "  <thead>\n",
              "    <tr style=\"text-align: right;\">\n",
              "      <th></th>\n",
              "      <th>0</th>\n",
              "      <th>1</th>\n",
              "      <th>2</th>\n",
              "    </tr>\n",
              "  </thead>\n",
              "  <tbody>\n",
              "    <tr>\n",
              "      <th>a</th>\n",
              "      <td>1</td>\n",
              "      <td>2</td>\n",
              "      <td>3</td>\n",
              "    </tr>\n",
              "    <tr>\n",
              "      <th>b</th>\n",
              "      <td>10</td>\n",
              "      <td>20</td>\n",
              "      <td>30</td>\n",
              "    </tr>\n",
              "    <tr>\n",
              "      <th>c</th>\n",
              "      <td>100</td>\n",
              "      <td>200</td>\n",
              "      <td>300</td>\n",
              "    </tr>\n",
              "  </tbody>\n",
              "</table>\n",
              "</div>"
            ],
            "text/plain": [
              "     0    1    2\n",
              "a    1    2    3\n",
              "b   10   20   30\n",
              "c  100  200  300"
            ]
          },
          "execution_count": 82,
          "metadata": {},
          "output_type": "execute_result"
        }
      ],
      "source": [
        "# index=list('abc')\n",
        "df = pd.DataFrame([[1, 2, 3], [10, 20, 30], [100, 200, 300]], index=['a', 'b', 'c'])\n",
        "\n",
        "df"
      ]
    },
    {
      "cell_type": "code",
      "execution_count": null,
      "metadata": {
        "id": "GGL3YW_UH1yB",
        "outputId": "c4e36bba-308d-4180-db7b-304d561f4c8f"
      },
      "outputs": [
        {
          "data": {
            "text/html": [
              "<div>\n",
              "<style scoped>\n",
              "    .dataframe tbody tr th:only-of-type {\n",
              "        vertical-align: middle;\n",
              "    }\n",
              "\n",
              "    .dataframe tbody tr th {\n",
              "        vertical-align: top;\n",
              "    }\n",
              "\n",
              "    .dataframe thead th {\n",
              "        text-align: right;\n",
              "    }\n",
              "</style>\n",
              "<table border=\"1\" class=\"dataframe\">\n",
              "  <thead>\n",
              "    <tr style=\"text-align: right;\">\n",
              "      <th></th>\n",
              "      <th>A</th>\n",
              "      <th>B</th>\n",
              "      <th>C</th>\n",
              "    </tr>\n",
              "  </thead>\n",
              "  <tbody>\n",
              "    <tr>\n",
              "      <th>a</th>\n",
              "      <td>1</td>\n",
              "      <td>2</td>\n",
              "      <td>3</td>\n",
              "    </tr>\n",
              "    <tr>\n",
              "      <th>b</th>\n",
              "      <td>10</td>\n",
              "      <td>20</td>\n",
              "      <td>30</td>\n",
              "    </tr>\n",
              "    <tr>\n",
              "      <th>c</th>\n",
              "      <td>100</td>\n",
              "      <td>200</td>\n",
              "      <td>300</td>\n",
              "    </tr>\n",
              "  </tbody>\n",
              "</table>\n",
              "</div>"
            ],
            "text/plain": [
              "     A    B    C\n",
              "a    1    2    3\n",
              "b   10   20   30\n",
              "c  100  200  300"
            ]
          },
          "execution_count": 83,
          "metadata": {},
          "output_type": "execute_result"
        }
      ],
      "source": [
        "df = pd.DataFrame([[1, 2, 3], [10, 20, 30], [100, 200, 300]], index=list('abc'), columns=list('ABC'))\n",
        "\n",
        "df"
      ]
    },
    {
      "cell_type": "code",
      "execution_count": null,
      "metadata": {
        "id": "_XRLm5HEH1yB",
        "outputId": "d937139e-9dbd-4d4b-b68c-793bd87bed40"
      },
      "outputs": [
        {
          "data": {
            "text/plain": [
              "Index(['a', 'b', 'c'], dtype='object')"
            ]
          },
          "execution_count": 84,
          "metadata": {},
          "output_type": "execute_result"
        }
      ],
      "source": [
        "df.index"
      ]
    },
    {
      "cell_type": "code",
      "execution_count": null,
      "metadata": {
        "id": "Ql5X0NX-H1yB",
        "outputId": "1513cba0-0ce4-491a-a6e5-d35f898453dd"
      },
      "outputs": [
        {
          "data": {
            "text/plain": [
              "Index(['A', 'B', 'C'], dtype='object')"
            ]
          },
          "execution_count": 85,
          "metadata": {},
          "output_type": "execute_result"
        }
      ],
      "source": [
        "df.columns"
      ]
    },
    {
      "cell_type": "code",
      "execution_count": null,
      "metadata": {
        "id": "EafLtG1GH1yB",
        "outputId": "02fb9ca3-59fd-41a0-e130-8fa70525da5e"
      },
      "outputs": [
        {
          "data": {
            "text/html": [
              "<div>\n",
              "<style scoped>\n",
              "    .dataframe tbody tr th:only-of-type {\n",
              "        vertical-align: middle;\n",
              "    }\n",
              "\n",
              "    .dataframe tbody tr th {\n",
              "        vertical-align: top;\n",
              "    }\n",
              "\n",
              "    .dataframe thead th {\n",
              "        text-align: right;\n",
              "    }\n",
              "</style>\n",
              "<table border=\"1\" class=\"dataframe\">\n",
              "  <thead>\n",
              "    <tr style=\"text-align: right;\">\n",
              "      <th></th>\n",
              "      <th>0</th>\n",
              "      <th>1</th>\n",
              "      <th>2</th>\n",
              "      <th>3</th>\n",
              "    </tr>\n",
              "  </thead>\n",
              "  <tbody>\n",
              "    <tr>\n",
              "      <th>0</th>\n",
              "      <td>0</td>\n",
              "      <td>1</td>\n",
              "      <td>2</td>\n",
              "      <td>3</td>\n",
              "    </tr>\n",
              "    <tr>\n",
              "      <th>1</th>\n",
              "      <td>4</td>\n",
              "      <td>5</td>\n",
              "      <td>6</td>\n",
              "      <td>7</td>\n",
              "    </tr>\n",
              "    <tr>\n",
              "      <th>2</th>\n",
              "      <td>8</td>\n",
              "      <td>9</td>\n",
              "      <td>10</td>\n",
              "      <td>11</td>\n",
              "    </tr>\n",
              "  </tbody>\n",
              "</table>\n",
              "</div>"
            ],
            "text/plain": [
              "   0  1   2   3\n",
              "0  0  1   2   3\n",
              "1  4  5   6   7\n",
              "2  8  9  10  11"
            ]
          },
          "execution_count": 86,
          "metadata": {},
          "output_type": "execute_result"
        }
      ],
      "source": [
        "df = pd.DataFrame(np.arange(12).reshape(3, 4))\n",
        "\n",
        "df"
      ]
    },
    {
      "cell_type": "code",
      "execution_count": null,
      "metadata": {
        "id": "yR-K8lEcH1yB",
        "outputId": "6f518fc0-8fa0-421a-8f26-a9a384b7aa3c"
      },
      "outputs": [
        {
          "data": {
            "text/html": [
              "<div>\n",
              "<style scoped>\n",
              "    .dataframe tbody tr th:only-of-type {\n",
              "        vertical-align: middle;\n",
              "    }\n",
              "\n",
              "    .dataframe tbody tr th {\n",
              "        vertical-align: top;\n",
              "    }\n",
              "\n",
              "    .dataframe thead th {\n",
              "        text-align: right;\n",
              "    }\n",
              "</style>\n",
              "<table border=\"1\" class=\"dataframe\">\n",
              "  <thead>\n",
              "    <tr style=\"text-align: right;\">\n",
              "      <th></th>\n",
              "      <th>0</th>\n",
              "      <th>1</th>\n",
              "      <th>2</th>\n",
              "      <th>3</th>\n",
              "      <th>4</th>\n",
              "    </tr>\n",
              "  </thead>\n",
              "  <tbody>\n",
              "    <tr>\n",
              "      <th>0</th>\n",
              "      <td>7</td>\n",
              "      <td>4</td>\n",
              "      <td>11</td>\n",
              "      <td>8</td>\n",
              "      <td>5</td>\n",
              "    </tr>\n",
              "    <tr>\n",
              "      <th>1</th>\n",
              "      <td>9</td>\n",
              "      <td>8</td>\n",
              "      <td>10</td>\n",
              "      <td>6</td>\n",
              "      <td>14</td>\n",
              "    </tr>\n",
              "    <tr>\n",
              "      <th>2</th>\n",
              "      <td>8</td>\n",
              "      <td>2</td>\n",
              "      <td>15</td>\n",
              "      <td>8</td>\n",
              "      <td>1</td>\n",
              "    </tr>\n",
              "    <tr>\n",
              "      <th>3</th>\n",
              "      <td>17</td>\n",
              "      <td>4</td>\n",
              "      <td>19</td>\n",
              "      <td>19</td>\n",
              "      <td>19</td>\n",
              "    </tr>\n",
              "  </tbody>\n",
              "</table>\n",
              "</div>"
            ],
            "text/plain": [
              "    0  1   2   3   4\n",
              "0   7  4  11   8   5\n",
              "1   9  8  10   6  14\n",
              "2   8  2  15   8   1\n",
              "3  17  4  19  19  19"
            ]
          },
          "execution_count": 87,
          "metadata": {},
          "output_type": "execute_result"
        }
      ],
      "source": [
        "df = pd.DataFrame(np.random.randint(1, 20, (4, 5)))\n",
        "\n",
        "df"
      ]
    },
    {
      "cell_type": "code",
      "execution_count": null,
      "metadata": {
        "id": "e0VYCqQhH1yB",
        "outputId": "0a206adc-51a8-4b69-fe4e-9d28d276cf23"
      },
      "outputs": [
        {
          "data": {
            "text/html": [
              "<div>\n",
              "<style scoped>\n",
              "    .dataframe tbody tr th:only-of-type {\n",
              "        vertical-align: middle;\n",
              "    }\n",
              "\n",
              "    .dataframe tbody tr th {\n",
              "        vertical-align: top;\n",
              "    }\n",
              "\n",
              "    .dataframe thead th {\n",
              "        text-align: right;\n",
              "    }\n",
              "</style>\n",
              "<table border=\"1\" class=\"dataframe\">\n",
              "  <thead>\n",
              "    <tr style=\"text-align: right;\">\n",
              "      <th></th>\n",
              "      <th>0</th>\n",
              "      <th>1</th>\n",
              "      <th>2</th>\n",
              "      <th>3</th>\n",
              "      <th>4</th>\n",
              "    </tr>\n",
              "  </thead>\n",
              "  <tbody>\n",
              "    <tr>\n",
              "      <th>0</th>\n",
              "      <td>0.055118</td>\n",
              "      <td>0.270046</td>\n",
              "      <td>0.396824</td>\n",
              "      <td>0.695955</td>\n",
              "      <td>0.065200</td>\n",
              "    </tr>\n",
              "    <tr>\n",
              "      <th>1</th>\n",
              "      <td>0.966466</td>\n",
              "      <td>0.989702</td>\n",
              "      <td>0.715856</td>\n",
              "      <td>0.807952</td>\n",
              "      <td>0.834875</td>\n",
              "    </tr>\n",
              "    <tr>\n",
              "      <th>2</th>\n",
              "      <td>0.631704</td>\n",
              "      <td>0.988964</td>\n",
              "      <td>0.456440</td>\n",
              "      <td>0.106939</td>\n",
              "      <td>0.935934</td>\n",
              "    </tr>\n",
              "    <tr>\n",
              "      <th>3</th>\n",
              "      <td>0.593150</td>\n",
              "      <td>0.106307</td>\n",
              "      <td>0.264327</td>\n",
              "      <td>0.412111</td>\n",
              "      <td>0.476678</td>\n",
              "    </tr>\n",
              "  </tbody>\n",
              "</table>\n",
              "</div>"
            ],
            "text/plain": [
              "          0         1         2         3         4\n",
              "0  0.055118  0.270046  0.396824  0.695955  0.065200\n",
              "1  0.966466  0.989702  0.715856  0.807952  0.834875\n",
              "2  0.631704  0.988964  0.456440  0.106939  0.935934\n",
              "3  0.593150  0.106307  0.264327  0.412111  0.476678"
            ]
          },
          "execution_count": 88,
          "metadata": {},
          "output_type": "execute_result"
        }
      ],
      "source": [
        "df = pd.DataFrame(np.random.random((4, 5)))\n",
        "\n",
        "df"
      ]
    },
    {
      "cell_type": "code",
      "execution_count": null,
      "metadata": {
        "id": "KLC_gPKvH1yB",
        "outputId": "525dd5e6-2022-411b-af0b-9c3a09b37ab0"
      },
      "outputs": [
        {
          "data": {
            "text/html": [
              "<div>\n",
              "<style scoped>\n",
              "    .dataframe tbody tr th:only-of-type {\n",
              "        vertical-align: middle;\n",
              "    }\n",
              "\n",
              "    .dataframe tbody tr th {\n",
              "        vertical-align: top;\n",
              "    }\n",
              "\n",
              "    .dataframe thead th {\n",
              "        text-align: right;\n",
              "    }\n",
              "</style>\n",
              "<table border=\"1\" class=\"dataframe\">\n",
              "  <thead>\n",
              "    <tr style=\"text-align: right;\">\n",
              "      <th></th>\n",
              "      <th>num</th>\n",
              "      <th>color</th>\n",
              "    </tr>\n",
              "  </thead>\n",
              "  <tbody>\n",
              "    <tr>\n",
              "      <th>0</th>\n",
              "      <td>1</td>\n",
              "      <td>r</td>\n",
              "    </tr>\n",
              "    <tr>\n",
              "      <th>1</th>\n",
              "      <td>2</td>\n",
              "      <td>g</td>\n",
              "    </tr>\n",
              "    <tr>\n",
              "      <th>2</th>\n",
              "      <td>3</td>\n",
              "      <td>b</td>\n",
              "    </tr>\n",
              "  </tbody>\n",
              "</table>\n",
              "</div>"
            ],
            "text/plain": [
              "   num color\n",
              "0    1     r\n",
              "1    2     g\n",
              "2    3     b"
            ]
          },
          "execution_count": 89,
          "metadata": {},
          "output_type": "execute_result"
        }
      ],
      "source": [
        "df = pd.DataFrame({'num':[1, 2, 3], 'color':['r', 'g', 'b']})\n",
        "\n",
        "df"
      ]
    },
    {
      "cell_type": "code",
      "execution_count": null,
      "metadata": {
        "id": "UOhVawJYH1yC",
        "outputId": "3623d1fd-f469-4d32-81f8-7148253aa9d7"
      },
      "outputs": [
        {
          "data": {
            "text/plain": [
              "RangeIndex(start=0, stop=3, step=1)"
            ]
          },
          "execution_count": 90,
          "metadata": {},
          "output_type": "execute_result"
        }
      ],
      "source": [
        "df.index"
      ]
    },
    {
      "cell_type": "code",
      "execution_count": null,
      "metadata": {
        "id": "bZ425W_KH1yC",
        "outputId": "58024bc8-2fa0-4a09-c838-0feb11493b45"
      },
      "outputs": [
        {
          "data": {
            "text/plain": [
              "Index(['num', 'color'], dtype='object')"
            ]
          },
          "execution_count": 91,
          "metadata": {},
          "output_type": "execute_result"
        }
      ],
      "source": [
        "df.columns"
      ]
    },
    {
      "cell_type": "code",
      "execution_count": null,
      "metadata": {
        "id": "3XKPQzU3H1yC",
        "outputId": "5fdb4529-84ad-452f-94ed-d7174eaca6f4"
      },
      "outputs": [
        {
          "data": {
            "text/html": [
              "<div>\n",
              "<style scoped>\n",
              "    .dataframe tbody tr th:only-of-type {\n",
              "        vertical-align: middle;\n",
              "    }\n",
              "\n",
              "    .dataframe tbody tr th {\n",
              "        vertical-align: top;\n",
              "    }\n",
              "\n",
              "    .dataframe thead th {\n",
              "        text-align: right;\n",
              "    }\n",
              "</style>\n",
              "<table border=\"1\" class=\"dataframe\">\n",
              "  <thead>\n",
              "    <tr style=\"text-align: right;\">\n",
              "      <th></th>\n",
              "      <th>국어</th>\n",
              "      <th>수학</th>\n",
              "    </tr>\n",
              "  </thead>\n",
              "  <tbody>\n",
              "    <tr>\n",
              "      <th>김</th>\n",
              "      <td>34</td>\n",
              "      <td>12</td>\n",
              "    </tr>\n",
              "    <tr>\n",
              "      <th>이</th>\n",
              "      <td>56</td>\n",
              "      <td>35</td>\n",
              "    </tr>\n",
              "    <tr>\n",
              "      <th>박</th>\n",
              "      <td>78</td>\n",
              "      <td>75</td>\n",
              "    </tr>\n",
              "  </tbody>\n",
              "</table>\n",
              "</div>"
            ],
            "text/plain": [
              "   국어  수학\n",
              "김  34  12\n",
              "이  56  35\n",
              "박  78  75"
            ]
          },
          "execution_count": 92,
          "metadata": {},
          "output_type": "execute_result"
        }
      ],
      "source": [
        "df = pd.DataFrame({'국어' : (34, 56, 78), '수학' : (12, 35, 75)}, index=['김', '이', '박'])\n",
        "\n",
        "df"
      ]
    },
    {
      "cell_type": "code",
      "execution_count": null,
      "metadata": {
        "id": "pNFZtlutH1yD",
        "outputId": "69eccd7b-442d-4303-d6d1-574e05e6001e"
      },
      "outputs": [
        {
          "data": {
            "text/plain": [
              "Index(['김', '이', '박'], dtype='object')"
            ]
          },
          "execution_count": 93,
          "metadata": {},
          "output_type": "execute_result"
        }
      ],
      "source": [
        "df.index"
      ]
    },
    {
      "cell_type": "code",
      "execution_count": null,
      "metadata": {
        "id": "jZgiogKaH1yD",
        "outputId": "4ffd6567-f577-49e3-dd9a-c2fd678d297a"
      },
      "outputs": [
        {
          "data": {
            "text/plain": [
              "Index(['국어', '수학'], dtype='object')"
            ]
          },
          "execution_count": 94,
          "metadata": {},
          "output_type": "execute_result"
        }
      ],
      "source": [
        "df.columns"
      ]
    },
    {
      "cell_type": "code",
      "execution_count": null,
      "metadata": {
        "id": "N2APiCkFH1yD",
        "outputId": "1450ec41-142d-46e1-b022-5972c0224641"
      },
      "outputs": [
        {
          "data": {
            "text/plain": [
              "0      spark\n",
              "1      hadop\n",
              "2    pyspark\n",
              "Name: courses, dtype: object"
            ]
          },
          "execution_count": 95,
          "metadata": {},
          "output_type": "execute_result"
        }
      ],
      "source": [
        "courses = pd.Series(['spark', 'hadop', 'pyspark'], name='courses')\n",
        "\n",
        "courses"
      ]
    },
    {
      "cell_type": "markdown",
      "metadata": {
        "id": "vS2sh8bJH1yE"
      },
      "source": [
        "-----------------"
      ]
    },
    {
      "cell_type": "code",
      "execution_count": null,
      "metadata": {
        "id": "uHAkFXJlH1yE",
        "outputId": "9182e92e-bd16-4fc3-f519-c86bbf31d6a2"
      },
      "outputs": [
        {
          "data": {
            "text/plain": [
              "0    25\n",
              "1    30\n",
              "2    35\n",
              "Name: fess, dtype: int64"
            ]
          },
          "execution_count": 96,
          "metadata": {},
          "output_type": "execute_result"
        }
      ],
      "source": [
        "fess = pd.Series([25, 30, 35], name='fess')\n",
        "\n",
        "fess"
      ]
    },
    {
      "cell_type": "code",
      "execution_count": null,
      "metadata": {
        "id": "fUJyGegiH1yE",
        "outputId": "18d3cb7d-e9ae-4f7a-ea59-2baf3ec144a2"
      },
      "outputs": [
        {
          "data": {
            "text/html": [
              "<div>\n",
              "<style scoped>\n",
              "    .dataframe tbody tr th:only-of-type {\n",
              "        vertical-align: middle;\n",
              "    }\n",
              "\n",
              "    .dataframe tbody tr th {\n",
              "        vertical-align: top;\n",
              "    }\n",
              "\n",
              "    .dataframe thead th {\n",
              "        text-align: right;\n",
              "    }\n",
              "</style>\n",
              "<table border=\"1\" class=\"dataframe\">\n",
              "  <thead>\n",
              "    <tr style=\"text-align: right;\">\n",
              "      <th></th>\n",
              "      <th>courses</th>\n",
              "      <th>fess</th>\n",
              "    </tr>\n",
              "  </thead>\n",
              "  <tbody>\n",
              "    <tr>\n",
              "      <th>0</th>\n",
              "      <td>spark</td>\n",
              "      <td>25</td>\n",
              "    </tr>\n",
              "    <tr>\n",
              "      <th>1</th>\n",
              "      <td>hadop</td>\n",
              "      <td>30</td>\n",
              "    </tr>\n",
              "    <tr>\n",
              "      <th>2</th>\n",
              "      <td>pyspark</td>\n",
              "      <td>35</td>\n",
              "    </tr>\n",
              "  </tbody>\n",
              "</table>\n",
              "</div>"
            ],
            "text/plain": [
              "   courses  fess\n",
              "0    spark    25\n",
              "1    hadop    30\n",
              "2  pyspark    35"
            ]
          },
          "execution_count": 97,
          "metadata": {},
          "output_type": "execute_result"
        }
      ],
      "source": [
        "df = pd.DataFrame({courses.name : courses, fess.name : fess})\n",
        "\n",
        "df"
      ]
    },
    {
      "cell_type": "code",
      "execution_count": null,
      "metadata": {
        "id": "Z-KTWJ88H1yF",
        "outputId": "c4bba9d6-e655-4b01-e7c3-5682d7b2d30f"
      },
      "outputs": [
        {
          "data": {
            "text/html": [
              "<div>\n",
              "<style scoped>\n",
              "    .dataframe tbody tr th:only-of-type {\n",
              "        vertical-align: middle;\n",
              "    }\n",
              "\n",
              "    .dataframe tbody tr th {\n",
              "        vertical-align: top;\n",
              "    }\n",
              "\n",
              "    .dataframe thead th {\n",
              "        text-align: right;\n",
              "    }\n",
              "</style>\n",
              "<table border=\"1\" class=\"dataframe\">\n",
              "  <thead>\n",
              "    <tr style=\"text-align: right;\">\n",
              "      <th></th>\n",
              "      <th>courses</th>\n",
              "      <th>fess</th>\n",
              "    </tr>\n",
              "  </thead>\n",
              "  <tbody>\n",
              "    <tr>\n",
              "      <th>0</th>\n",
              "      <td>spark</td>\n",
              "      <td>25</td>\n",
              "    </tr>\n",
              "    <tr>\n",
              "      <th>1</th>\n",
              "      <td>hadop</td>\n",
              "      <td>30</td>\n",
              "    </tr>\n",
              "    <tr>\n",
              "      <th>2</th>\n",
              "      <td>pyspark</td>\n",
              "      <td>35</td>\n",
              "    </tr>\n",
              "  </tbody>\n",
              "</table>\n",
              "</div>"
            ],
            "text/plain": [
              "   courses  fess\n",
              "0    spark    25\n",
              "1    hadop    30\n",
              "2  pyspark    35"
            ]
          },
          "execution_count": 98,
          "metadata": {},
          "output_type": "execute_result"
        }
      ],
      "source": [
        "courses = pd.Series(['spark', 'hadop', 'pyspark'], name='courses')\n",
        "fess = pd.Series([25, 30, 35], name='fess')\n",
        "\n",
        "df = pd.concat([courses, fess], axis=1)\n",
        "\n",
        "df"
      ]
    },
    {
      "cell_type": "code",
      "execution_count": null,
      "metadata": {
        "id": "XkjnTAyIH1yF",
        "outputId": "81ebe067-de42-4be4-a5c9-44095a72817f"
      },
      "outputs": [
        {
          "data": {
            "text/plain": [
              "0      spark\n",
              "1      hadop\n",
              "2    pyspark\n",
              "0         25\n",
              "1         30\n",
              "2         35\n",
              "dtype: object"
            ]
          },
          "execution_count": 99,
          "metadata": {},
          "output_type": "execute_result"
        }
      ],
      "source": [
        "df = pd.concat([courses, fess])\n",
        "\n",
        "df"
      ]
    },
    {
      "cell_type": "code",
      "execution_count": null,
      "metadata": {
        "id": "kNImdjAlH1yG",
        "outputId": "7ba29916-5f9e-401a-e53e-67377741a7ed"
      },
      "outputs": [
        {
          "data": {
            "text/html": [
              "<div>\n",
              "<style scoped>\n",
              "    .dataframe tbody tr th:only-of-type {\n",
              "        vertical-align: middle;\n",
              "    }\n",
              "\n",
              "    .dataframe tbody tr th {\n",
              "        vertical-align: top;\n",
              "    }\n",
              "\n",
              "    .dataframe thead th {\n",
              "        text-align: right;\n",
              "    }\n",
              "</style>\n",
              "<table border=\"1\" class=\"dataframe\">\n",
              "  <thead>\n",
              "    <tr style=\"text-align: right;\">\n",
              "      <th></th>\n",
              "      <th>0</th>\n",
              "      <th>1</th>\n",
              "      <th>2</th>\n",
              "    </tr>\n",
              "  </thead>\n",
              "  <tbody>\n",
              "    <tr>\n",
              "      <th>courses</th>\n",
              "      <td>spark</td>\n",
              "      <td>hadop</td>\n",
              "      <td>pyspark</td>\n",
              "    </tr>\n",
              "    <tr>\n",
              "      <th>fess</th>\n",
              "      <td>25</td>\n",
              "      <td>30</td>\n",
              "      <td>35</td>\n",
              "    </tr>\n",
              "  </tbody>\n",
              "</table>\n",
              "</div>"
            ],
            "text/plain": [
              "             0      1        2\n",
              "courses  spark  hadop  pyspark\n",
              "fess        25     30       35"
            ]
          },
          "execution_count": 100,
          "metadata": {},
          "output_type": "execute_result"
        }
      ],
      "source": [
        "df = pd.DataFrame([courses, fess])\n",
        "\n",
        "df"
      ]
    },
    {
      "cell_type": "code",
      "execution_count": null,
      "metadata": {
        "id": "_kaUNOmcH1yG",
        "outputId": "c3b9b4d6-e88f-4bc5-b6fc-1a8c2c9648ae"
      },
      "outputs": [
        {
          "data": {
            "text/html": [
              "<div>\n",
              "<style scoped>\n",
              "    .dataframe tbody tr th:only-of-type {\n",
              "        vertical-align: middle;\n",
              "    }\n",
              "\n",
              "    .dataframe tbody tr th {\n",
              "        vertical-align: top;\n",
              "    }\n",
              "\n",
              "    .dataframe thead th {\n",
              "        text-align: right;\n",
              "    }\n",
              "</style>\n",
              "<table border=\"1\" class=\"dataframe\">\n",
              "  <thead>\n",
              "    <tr style=\"text-align: right;\">\n",
              "      <th></th>\n",
              "      <th>courses</th>\n",
              "      <th>fess</th>\n",
              "    </tr>\n",
              "  </thead>\n",
              "  <tbody>\n",
              "    <tr>\n",
              "      <th>0</th>\n",
              "      <td>spark</td>\n",
              "      <td>25</td>\n",
              "    </tr>\n",
              "    <tr>\n",
              "      <th>1</th>\n",
              "      <td>hadop</td>\n",
              "      <td>30</td>\n",
              "    </tr>\n",
              "    <tr>\n",
              "      <th>2</th>\n",
              "      <td>pyspark</td>\n",
              "      <td>35</td>\n",
              "    </tr>\n",
              "  </tbody>\n",
              "</table>\n",
              "</div>"
            ],
            "text/plain": [
              "   courses fess\n",
              "0    spark   25\n",
              "1    hadop   30\n",
              "2  pyspark   35"
            ]
          },
          "execution_count": 101,
          "metadata": {},
          "output_type": "execute_result"
        }
      ],
      "source": [
        "df.T"
      ]
    },
    {
      "cell_type": "code",
      "execution_count": null,
      "metadata": {
        "id": "b0_40PgaH1yH",
        "outputId": "125e1271-e3cc-4a5f-cda0-e42e2b7a7590"
      },
      "outputs": [
        {
          "data": {
            "text/html": [
              "<div>\n",
              "<style scoped>\n",
              "    .dataframe tbody tr th:only-of-type {\n",
              "        vertical-align: middle;\n",
              "    }\n",
              "\n",
              "    .dataframe tbody tr th {\n",
              "        vertical-align: top;\n",
              "    }\n",
              "\n",
              "    .dataframe thead th {\n",
              "        text-align: right;\n",
              "    }\n",
              "</style>\n",
              "<table border=\"1\" class=\"dataframe\">\n",
              "  <thead>\n",
              "    <tr style=\"text-align: right;\">\n",
              "      <th></th>\n",
              "    </tr>\n",
              "  </thead>\n",
              "  <tbody>\n",
              "  </tbody>\n",
              "</table>\n",
              "</div>"
            ],
            "text/plain": [
              "Empty DataFrame\n",
              "Columns: []\n",
              "Index: []"
            ]
          },
          "execution_count": 102,
          "metadata": {},
          "output_type": "execute_result"
        }
      ],
      "source": [
        "df = pd.DataFrame()\n",
        "\n",
        "df"
      ]
    },
    {
      "cell_type": "code",
      "execution_count": null,
      "metadata": {
        "id": "P89DYyLZH1yH",
        "outputId": "6191060e-fa01-4799-b3e1-b27662fa1aaa"
      },
      "outputs": [
        {
          "data": {
            "text/html": [
              "<div>\n",
              "<style scoped>\n",
              "    .dataframe tbody tr th:only-of-type {\n",
              "        vertical-align: middle;\n",
              "    }\n",
              "\n",
              "    .dataframe tbody tr th {\n",
              "        vertical-align: top;\n",
              "    }\n",
              "\n",
              "    .dataframe thead th {\n",
              "        text-align: right;\n",
              "    }\n",
              "</style>\n",
              "<table border=\"1\" class=\"dataframe\">\n",
              "  <thead>\n",
              "    <tr style=\"text-align: right;\">\n",
              "      <th></th>\n",
              "      <th>courses</th>\n",
              "    </tr>\n",
              "  </thead>\n",
              "  <tbody>\n",
              "    <tr>\n",
              "      <th>0</th>\n",
              "      <td>spark</td>\n",
              "    </tr>\n",
              "    <tr>\n",
              "      <th>1</th>\n",
              "      <td>hadop</td>\n",
              "    </tr>\n",
              "    <tr>\n",
              "      <th>2</th>\n",
              "      <td>pyspark</td>\n",
              "    </tr>\n",
              "  </tbody>\n",
              "</table>\n",
              "</div>"
            ],
            "text/plain": [
              "   courses\n",
              "0    spark\n",
              "1    hadop\n",
              "2  pyspark"
            ]
          },
          "execution_count": 103,
          "metadata": {},
          "output_type": "execute_result"
        }
      ],
      "source": [
        "courses = pd.Series(['spark', 'hadop', 'pyspark'], name='courses')\n",
        "df[courses.name] = courses\n",
        "\n",
        "df"
      ]
    },
    {
      "cell_type": "code",
      "execution_count": null,
      "metadata": {
        "id": "xLDlU5PHH1yH",
        "outputId": "a7d89e80-2699-4757-838d-1d870336fb4e"
      },
      "outputs": [
        {
          "data": {
            "text/html": [
              "<div>\n",
              "<style scoped>\n",
              "    .dataframe tbody tr th:only-of-type {\n",
              "        vertical-align: middle;\n",
              "    }\n",
              "\n",
              "    .dataframe tbody tr th {\n",
              "        vertical-align: top;\n",
              "    }\n",
              "\n",
              "    .dataframe thead th {\n",
              "        text-align: right;\n",
              "    }\n",
              "</style>\n",
              "<table border=\"1\" class=\"dataframe\">\n",
              "  <thead>\n",
              "    <tr style=\"text-align: right;\">\n",
              "      <th></th>\n",
              "      <th>courses</th>\n",
              "      <th>fess</th>\n",
              "    </tr>\n",
              "  </thead>\n",
              "  <tbody>\n",
              "    <tr>\n",
              "      <th>0</th>\n",
              "      <td>spark</td>\n",
              "      <td>25</td>\n",
              "    </tr>\n",
              "    <tr>\n",
              "      <th>1</th>\n",
              "      <td>hadop</td>\n",
              "      <td>30</td>\n",
              "    </tr>\n",
              "    <tr>\n",
              "      <th>2</th>\n",
              "      <td>pyspark</td>\n",
              "      <td>35</td>\n",
              "    </tr>\n",
              "  </tbody>\n",
              "</table>\n",
              "</div>"
            ],
            "text/plain": [
              "   courses  fess\n",
              "0    spark    25\n",
              "1    hadop    30\n",
              "2  pyspark    35"
            ]
          },
          "execution_count": 104,
          "metadata": {},
          "output_type": "execute_result"
        }
      ],
      "source": [
        "fess = pd.Series([25, 30, 35], name='fess')\n",
        "df[fess.name] = fess\n",
        "\n",
        "df"
      ]
    },
    {
      "cell_type": "code",
      "execution_count": null,
      "metadata": {
        "id": "mmYHLMrGH1yH",
        "outputId": "20b19c7d-ec48-4231-c314-7caf79c564a4"
      },
      "outputs": [
        {
          "data": {
            "text/html": [
              "<div>\n",
              "<style scoped>\n",
              "    .dataframe tbody tr th:only-of-type {\n",
              "        vertical-align: middle;\n",
              "    }\n",
              "\n",
              "    .dataframe tbody tr th {\n",
              "        vertical-align: top;\n",
              "    }\n",
              "\n",
              "    .dataframe thead th {\n",
              "        text-align: right;\n",
              "    }\n",
              "</style>\n",
              "<table border=\"1\" class=\"dataframe\">\n",
              "  <thead>\n",
              "    <tr style=\"text-align: right;\">\n",
              "      <th></th>\n",
              "      <th>국어</th>\n",
              "      <th>수학</th>\n",
              "      <th>영어</th>\n",
              "    </tr>\n",
              "  </thead>\n",
              "  <tbody>\n",
              "    <tr>\n",
              "      <th>0</th>\n",
              "      <td>70.0</td>\n",
              "      <td>80.0</td>\n",
              "      <td>90</td>\n",
              "    </tr>\n",
              "    <tr>\n",
              "      <th>1</th>\n",
              "      <td>55.0</td>\n",
              "      <td>NaN</td>\n",
              "      <td>20</td>\n",
              "    </tr>\n",
              "    <tr>\n",
              "      <th>2</th>\n",
              "      <td>NaN</td>\n",
              "      <td>40.0</td>\n",
              "      <td>60</td>\n",
              "    </tr>\n",
              "  </tbody>\n",
              "</table>\n",
              "</div>"
            ],
            "text/plain": [
              "     국어    수학  영어\n",
              "0  70.0  80.0  90\n",
              "1  55.0   NaN  20\n",
              "2   NaN  40.0  60"
            ]
          },
          "execution_count": 106,
          "metadata": {},
          "output_type": "execute_result"
        }
      ],
      "source": [
        "df = pd.DataFrame([{'국어':70, '수학':80, '영어':90},\n",
        "                  {'국어':55, '영어':20},\n",
        "                  {'수학':40, '영어':60}])\n",
        "\n",
        "df\n"
      ]
    },
    {
      "cell_type": "code",
      "execution_count": null,
      "metadata": {
        "id": "MXHc0EqfH1yI"
      },
      "outputs": [],
      "source": [
        "s1 = pd.Series([10, 20, 30, 40])\n",
        "s2 = pd.Series([15, 25, 35, 45])\n",
        "s3 = pd.Series([100, 200, 300, 400])"
      ]
    },
    {
      "cell_type": "code",
      "execution_count": null,
      "metadata": {
        "id": "HHGRPWqgH1yI",
        "outputId": "6ea34376-9220-4544-fc39-5f083049830b"
      },
      "outputs": [
        {
          "data": {
            "text/plain": [
              "0    10\n",
              "1    20\n",
              "2    30\n",
              "3    40\n",
              "dtype: int64"
            ]
          },
          "execution_count": 110,
          "metadata": {},
          "output_type": "execute_result"
        }
      ],
      "source": [
        "s1"
      ]
    },
    {
      "cell_type": "code",
      "execution_count": null,
      "metadata": {
        "id": "ewhy8Bj3H1yI",
        "outputId": "d16b4d0c-3335-484a-ee5c-a9fa4a948e02"
      },
      "outputs": [
        {
          "data": {
            "text/html": [
              "<div>\n",
              "<style scoped>\n",
              "    .dataframe tbody tr th:only-of-type {\n",
              "        vertical-align: middle;\n",
              "    }\n",
              "\n",
              "    .dataframe tbody tr th {\n",
              "        vertical-align: top;\n",
              "    }\n",
              "\n",
              "    .dataframe thead th {\n",
              "        text-align: right;\n",
              "    }\n",
              "</style>\n",
              "<table border=\"1\" class=\"dataframe\">\n",
              "  <thead>\n",
              "    <tr style=\"text-align: right;\">\n",
              "      <th></th>\n",
              "      <th>국어</th>\n",
              "      <th>영어</th>\n",
              "      <th>수학</th>\n",
              "    </tr>\n",
              "  </thead>\n",
              "  <tbody>\n",
              "    <tr>\n",
              "      <th>0</th>\n",
              "      <td>10</td>\n",
              "      <td>15</td>\n",
              "      <td>100</td>\n",
              "    </tr>\n",
              "    <tr>\n",
              "      <th>1</th>\n",
              "      <td>20</td>\n",
              "      <td>25</td>\n",
              "      <td>200</td>\n",
              "    </tr>\n",
              "    <tr>\n",
              "      <th>2</th>\n",
              "      <td>30</td>\n",
              "      <td>35</td>\n",
              "      <td>300</td>\n",
              "    </tr>\n",
              "    <tr>\n",
              "      <th>3</th>\n",
              "      <td>40</td>\n",
              "      <td>45</td>\n",
              "      <td>400</td>\n",
              "    </tr>\n",
              "  </tbody>\n",
              "</table>\n",
              "</div>"
            ],
            "text/plain": [
              "   국어  영어   수학\n",
              "0  10  15  100\n",
              "1  20  25  200\n",
              "2  30  35  300\n",
              "3  40  45  400"
            ]
          },
          "execution_count": 111,
          "metadata": {},
          "output_type": "execute_result"
        }
      ],
      "source": [
        "df = pd.DataFrame({'국어':s1, '영어':s2, '수학':s3})\n",
        "\n",
        "df"
      ]
    },
    {
      "cell_type": "code",
      "execution_count": null,
      "metadata": {
        "id": "tfvqe8x2H1yI",
        "outputId": "e7eca380-9d9b-4064-a05f-9c5a54a57e63"
      },
      "outputs": [
        {
          "data": {
            "text/html": [
              "<div>\n",
              "<style scoped>\n",
              "    .dataframe tbody tr th:only-of-type {\n",
              "        vertical-align: middle;\n",
              "    }\n",
              "\n",
              "    .dataframe tbody tr th {\n",
              "        vertical-align: top;\n",
              "    }\n",
              "\n",
              "    .dataframe thead th {\n",
              "        text-align: right;\n",
              "    }\n",
              "</style>\n",
              "<table border=\"1\" class=\"dataframe\">\n",
              "  <thead>\n",
              "    <tr style=\"text-align: right;\">\n",
              "      <th></th>\n",
              "      <th>국어</th>\n",
              "      <th>영어</th>\n",
              "      <th>수학</th>\n",
              "    </tr>\n",
              "  </thead>\n",
              "  <tbody>\n",
              "    <tr>\n",
              "      <th>김</th>\n",
              "      <td>10</td>\n",
              "      <td>15</td>\n",
              "      <td>100</td>\n",
              "    </tr>\n",
              "    <tr>\n",
              "      <th>이</th>\n",
              "      <td>20</td>\n",
              "      <td>25</td>\n",
              "      <td>200</td>\n",
              "    </tr>\n",
              "    <tr>\n",
              "      <th>박</th>\n",
              "      <td>30</td>\n",
              "      <td>35</td>\n",
              "      <td>300</td>\n",
              "    </tr>\n",
              "    <tr>\n",
              "      <th>최</th>\n",
              "      <td>40</td>\n",
              "      <td>45</td>\n",
              "      <td>400</td>\n",
              "    </tr>\n",
              "  </tbody>\n",
              "</table>\n",
              "</div>"
            ],
            "text/plain": [
              "   국어  영어   수학\n",
              "김  10  15  100\n",
              "이  20  25  200\n",
              "박  30  35  300\n",
              "최  40  45  400"
            ]
          },
          "execution_count": 113,
          "metadata": {},
          "output_type": "execute_result"
        }
      ],
      "source": [
        "df.index = ['김', '이', '박', '최']\n",
        "\n",
        "df"
      ]
    },
    {
      "cell_type": "code",
      "execution_count": null,
      "metadata": {
        "id": "NgYHTqJCH1yI",
        "outputId": "3b698d66-2990-4ced-ca82-dab15dd97965"
      },
      "outputs": [
        {
          "data": {
            "text/html": [
              "<div>\n",
              "<style scoped>\n",
              "    .dataframe tbody tr th:only-of-type {\n",
              "        vertical-align: middle;\n",
              "    }\n",
              "\n",
              "    .dataframe tbody tr th {\n",
              "        vertical-align: top;\n",
              "    }\n",
              "\n",
              "    .dataframe thead th {\n",
              "        text-align: right;\n",
              "    }\n",
              "</style>\n",
              "<table border=\"1\" class=\"dataframe\">\n",
              "  <thead>\n",
              "    <tr style=\"text-align: right;\">\n",
              "      <th></th>\n",
              "      <th>A</th>\n",
              "      <th>B</th>\n",
              "    </tr>\n",
              "  </thead>\n",
              "  <tbody>\n",
              "    <tr>\n",
              "      <th>0</th>\n",
              "      <td>10.0</td>\n",
              "      <td>NaN</td>\n",
              "    </tr>\n",
              "    <tr>\n",
              "      <th>1</th>\n",
              "      <td>20.0</td>\n",
              "      <td>3.0</td>\n",
              "    </tr>\n",
              "    <tr>\n",
              "      <th>2</th>\n",
              "      <td>30.0</td>\n",
              "      <td>2.0</td>\n",
              "    </tr>\n",
              "    <tr>\n",
              "      <th>3</th>\n",
              "      <td>NaN</td>\n",
              "      <td>1.0</td>\n",
              "    </tr>\n",
              "  </tbody>\n",
              "</table>\n",
              "</div>"
            ],
            "text/plain": [
              "      A    B\n",
              "0  10.0  NaN\n",
              "1  20.0  3.0\n",
              "2  30.0  2.0\n",
              "3   NaN  1.0"
            ]
          },
          "execution_count": 115,
          "metadata": {},
          "output_type": "execute_result"
        }
      ],
      "source": [
        "df = pd.DataFrame({'A':pd.Series([10, 20, 30], index=[0, 1, 2]),\n",
        "                  'B':pd.Series([3, 2, 1], index=[1, 2, 3])})\n",
        "\n",
        "df"
      ]
    },
    {
      "cell_type": "code",
      "execution_count": null,
      "metadata": {
        "id": "X6hCnnkIH1yI"
      },
      "outputs": [],
      "source": [
        "s1 = pd.Series([10, 20, 30, 40], index=['김', '이', '박', '최'])\n",
        "s2 = pd.Series([15, 25, 35, 45], index=['김', '이', '박', '장'])\n",
        "s3 = pd.Series([100, 200, 300, 400])"
      ]
    },
    {
      "cell_type": "code",
      "execution_count": null,
      "metadata": {
        "id": "lzLqMXSbH1yJ",
        "outputId": "4296b56c-8724-4a4a-8313-c41f8b4c2817"
      },
      "outputs": [
        {
          "data": {
            "text/html": [
              "<div>\n",
              "<style scoped>\n",
              "    .dataframe tbody tr th:only-of-type {\n",
              "        vertical-align: middle;\n",
              "    }\n",
              "\n",
              "    .dataframe tbody tr th {\n",
              "        vertical-align: top;\n",
              "    }\n",
              "\n",
              "    .dataframe thead th {\n",
              "        text-align: right;\n",
              "    }\n",
              "</style>\n",
              "<table border=\"1\" class=\"dataframe\">\n",
              "  <thead>\n",
              "    <tr style=\"text-align: right;\">\n",
              "      <th></th>\n",
              "      <th>국어</th>\n",
              "      <th>수학</th>\n",
              "      <th>영어</th>\n",
              "    </tr>\n",
              "  </thead>\n",
              "  <tbody>\n",
              "    <tr>\n",
              "      <th>김</th>\n",
              "      <td>10</td>\n",
              "      <td>15.0</td>\n",
              "      <td>NaN</td>\n",
              "    </tr>\n",
              "    <tr>\n",
              "      <th>이</th>\n",
              "      <td>20</td>\n",
              "      <td>25.0</td>\n",
              "      <td>NaN</td>\n",
              "    </tr>\n",
              "    <tr>\n",
              "      <th>박</th>\n",
              "      <td>30</td>\n",
              "      <td>35.0</td>\n",
              "      <td>NaN</td>\n",
              "    </tr>\n",
              "    <tr>\n",
              "      <th>최</th>\n",
              "      <td>40</td>\n",
              "      <td>NaN</td>\n",
              "      <td>NaN</td>\n",
              "    </tr>\n",
              "  </tbody>\n",
              "</table>\n",
              "</div>"
            ],
            "text/plain": [
              "   국어    수학  영어\n",
              "김  10  15.0 NaN\n",
              "이  20  25.0 NaN\n",
              "박  30  35.0 NaN\n",
              "최  40   NaN NaN"
            ]
          },
          "execution_count": 120,
          "metadata": {},
          "output_type": "execute_result"
        }
      ],
      "source": [
        "df = pd.DataFrame({'국어':s1, '수학':s2, '영어':s3}, index=list('김이박최'))\n",
        "\n",
        "df"
      ]
    },
    {
      "cell_type": "code",
      "execution_count": null,
      "metadata": {
        "id": "tplUAqKNH1yJ",
        "outputId": "a717ff24-9b8d-453e-8fe5-13c455ce7290"
      },
      "outputs": [
        {
          "data": {
            "text/html": [
              "<div>\n",
              "<style scoped>\n",
              "    .dataframe tbody tr th:only-of-type {\n",
              "        vertical-align: middle;\n",
              "    }\n",
              "\n",
              "    .dataframe tbody tr th {\n",
              "        vertical-align: top;\n",
              "    }\n",
              "\n",
              "    .dataframe thead th {\n",
              "        text-align: right;\n",
              "    }\n",
              "</style>\n",
              "<table border=\"1\" class=\"dataframe\">\n",
              "  <thead>\n",
              "    <tr style=\"text-align: right;\">\n",
              "      <th></th>\n",
              "      <th>col1</th>\n",
              "      <th>col2</th>\n",
              "    </tr>\n",
              "  </thead>\n",
              "  <tbody>\n",
              "    <tr>\n",
              "      <th>0</th>\n",
              "      <td>1</td>\n",
              "      <td>3</td>\n",
              "    </tr>\n",
              "    <tr>\n",
              "      <th>1</th>\n",
              "      <td>2</td>\n",
              "      <td>4</td>\n",
              "    </tr>\n",
              "  </tbody>\n",
              "</table>\n",
              "</div>"
            ],
            "text/plain": [
              "   col1  col2\n",
              "0     1     3\n",
              "1     2     4"
            ]
          },
          "execution_count": 121,
          "metadata": {},
          "output_type": "execute_result"
        }
      ],
      "source": [
        "d = {'col1':[1, 2], 'col2':[3, 4]}\n",
        "df = pd.DataFrame(data = d)\n",
        "\n",
        "df"
      ]
    },
    {
      "cell_type": "code",
      "execution_count": null,
      "metadata": {
        "id": "7plmHoBlH1yJ",
        "outputId": "9778ee0a-b53e-42ab-a7b9-d9bba0a59c65"
      },
      "outputs": [
        {
          "data": {
            "text/plain": [
              "col1    int64\n",
              "col2    int64\n",
              "dtype: object"
            ]
          },
          "execution_count": 123,
          "metadata": {},
          "output_type": "execute_result"
        }
      ],
      "source": [
        "df.dtypes"
      ]
    },
    {
      "cell_type": "code",
      "execution_count": null,
      "metadata": {
        "id": "YcpVgWq7H1yJ",
        "outputId": "13b5747a-e37e-4704-dc0b-47e9f5b24339"
      },
      "outputs": [
        {
          "data": {
            "text/plain": [
              "col1    int8\n",
              "col2    int8\n",
              "dtype: object"
            ]
          },
          "execution_count": 125,
          "metadata": {},
          "output_type": "execute_result"
        }
      ],
      "source": [
        "df = pd.DataFrame(data = d, dtype=np.int8)\n",
        "df.dtypes"
      ]
    },
    {
      "cell_type": "markdown",
      "metadata": {
        "id": "s0oevCGLH1yK"
      },
      "source": [
        "날짜를 위한 함수"
      ]
    },
    {
      "cell_type": "code",
      "execution_count": null,
      "metadata": {
        "id": "ajlpj6ygH1yK",
        "outputId": "7839589c-70eb-471d-ff9b-7bc39868a9c8"
      },
      "outputs": [
        {
          "data": {
            "text/plain": [
              "DatetimeIndex(['2025-01-01', '2025-01-02', '2025-01-03', '2025-01-04',\n",
              "               '2025-01-05', '2025-01-06'],\n",
              "              dtype='datetime64[ns]', freq='D')"
            ]
          },
          "execution_count": 126,
          "metadata": {},
          "output_type": "execute_result"
        }
      ],
      "source": [
        "dates = pd.date_range('20250101', periods=6)\n",
        "\n",
        "dates"
      ]
    },
    {
      "cell_type": "code",
      "execution_count": null,
      "metadata": {
        "id": "NMtAJjJ_H1yK",
        "outputId": "3691fea1-a336-41fb-8d58-57d57cc39312"
      },
      "outputs": [
        {
          "data": {
            "text/plain": [
              "DatetimeIndex(['2025-01-01', '2025-01-02', '2025-01-03', '2025-01-04',\n",
              "               '2025-01-05', '2025-01-06', '2025-01-07', '2025-01-08',\n",
              "               '2025-01-09', '2025-01-10', '2025-01-11', '2025-01-12',\n",
              "               '2025-01-13', '2025-01-14', '2025-01-15', '2025-01-16',\n",
              "               '2025-01-17', '2025-01-18', '2025-01-19', '2025-01-20'],\n",
              "              dtype='datetime64[ns]', freq='D')"
            ]
          },
          "execution_count": 127,
          "metadata": {},
          "output_type": "execute_result"
        }
      ],
      "source": [
        "dates = pd.date_range('20250101', end='20250120')\n",
        "\n",
        "dates"
      ]
    },
    {
      "cell_type": "code",
      "execution_count": null,
      "metadata": {
        "id": "HzSQlyttH1yK",
        "outputId": "6f86e413-cee1-4b10-805a-8f160b08addc"
      },
      "outputs": [
        {
          "data": {
            "text/plain": [
              "DatetimeIndex(['2025-01-01', '2025-01-04', '2025-01-07', '2025-01-10',\n",
              "               '2025-01-13', '2025-01-16'],\n",
              "              dtype='datetime64[ns]', freq='3D')"
            ]
          },
          "execution_count": 131,
          "metadata": {},
          "output_type": "execute_result"
        }
      ],
      "source": [
        "dates = pd.date_range('20250101', periods=6, freq='3d')\n",
        "\n",
        "dates"
      ]
    },
    {
      "cell_type": "code",
      "execution_count": null,
      "metadata": {
        "id": "cRW_nrEzH1yL",
        "outputId": "675edf28-f28d-406c-ee82-5cc21bdf16dc"
      },
      "outputs": [
        {
          "data": {
            "text/plain": [
              "DatetimeIndex(['2025-01-01 00:00:00', '2025-01-01 03:00:00',\n",
              "               '2025-01-01 06:00:00', '2025-01-01 09:00:00',\n",
              "               '2025-01-01 12:00:00', '2025-01-01 15:00:00'],\n",
              "              dtype='datetime64[ns]', freq='3h')"
            ]
          },
          "execution_count": 130,
          "metadata": {},
          "output_type": "execute_result"
        }
      ],
      "source": [
        "dates = pd.date_range('20250101', periods=6, freq='3h')\n",
        "\n",
        "dates"
      ]
    },
    {
      "cell_type": "code",
      "execution_count": null,
      "metadata": {
        "id": "EyJosbaMH1yL",
        "outputId": "bcea6935-3259-41f5-e691-597b0f989888"
      },
      "outputs": [
        {
          "name": "stderr",
          "output_type": "stream",
          "text": [
            "C:\\Users\\asus\\AppData\\Local\\Temp\\ipykernel_6432\\3641989666.py:1: FutureWarning: 'w' is deprecated and will be removed in a future version, please use 'W' instead.\n",
            "  dates = pd.date_range('20250101', periods=6, freq='3w')\n"
          ]
        },
        {
          "data": {
            "text/plain": [
              "DatetimeIndex(['2025-01-05', '2025-01-26', '2025-02-16', '2025-03-09',\n",
              "               '2025-03-30', '2025-04-20'],\n",
              "              dtype='datetime64[ns]', freq='3W-SUN')"
            ]
          },
          "execution_count": 132,
          "metadata": {},
          "output_type": "execute_result"
        }
      ],
      "source": [
        "dates = pd.date_range('20250101', periods=6, freq='3w')\n",
        "\n",
        "dates"
      ]
    },
    {
      "cell_type": "code",
      "execution_count": null,
      "metadata": {
        "id": "wwCErs4NH1yL",
        "outputId": "9ecff1ae-fa16-49df-9ea5-58e3e4351182"
      },
      "outputs": [
        {
          "name": "stderr",
          "output_type": "stream",
          "text": [
            "C:\\Users\\asus\\AppData\\Local\\Temp\\ipykernel_6432\\186281207.py:1: FutureWarning: 'w' is deprecated and will be removed in a future version, please use 'W' instead.\n",
            "  dates = pd.date_range('20250101', periods=6, freq='w')\n"
          ]
        },
        {
          "data": {
            "text/plain": [
              "DatetimeIndex(['2025-01-05', '2025-01-12', '2025-01-19', '2025-01-26',\n",
              "               '2025-02-02', '2025-02-09'],\n",
              "              dtype='datetime64[ns]', freq='W-SUN')"
            ]
          },
          "execution_count": 133,
          "metadata": {},
          "output_type": "execute_result"
        }
      ],
      "source": [
        "dates = pd.date_range('20250101', periods=6, freq='w')\n",
        "\n",
        "dates"
      ]
    },
    {
      "cell_type": "code",
      "execution_count": null,
      "metadata": {
        "id": "aqb-U9hvH1yL",
        "outputId": "a834fcc4-f3f3-4c25-8daa-8850ba804f81"
      },
      "outputs": [
        {
          "data": {
            "text/plain": [
              "DatetimeIndex(['2025-01-07', '2025-01-14', '2025-01-21', '2025-01-28',\n",
              "               '2025-02-04', '2025-02-11'],\n",
              "              dtype='datetime64[ns]', freq='W-TUE')"
            ]
          },
          "execution_count": 135,
          "metadata": {},
          "output_type": "execute_result"
        }
      ],
      "source": [
        "dates = pd.date_range('20250101', periods=6, freq='w-tue')\n",
        "\n",
        "dates"
      ]
    },
    {
      "cell_type": "code",
      "execution_count": null,
      "metadata": {
        "id": "QU47ftYYH1yM",
        "outputId": "b0a1aed2-bc11-459f-966e-fdac2beec07b"
      },
      "outputs": [
        {
          "data": {
            "text/plain": [
              "DatetimeIndex(['2025-01-31', '2025-02-28', '2025-03-31', '2025-04-30',\n",
              "               '2025-05-31', '2025-06-30'],\n",
              "              dtype='datetime64[ns]', freq='ME')"
            ]
          },
          "execution_count": 138,
          "metadata": {},
          "output_type": "execute_result"
        }
      ],
      "source": [
        "dates = pd.date_range('20250101', periods=6, freq='ME')\n",
        "\n",
        "dates"
      ]
    },
    {
      "cell_type": "code",
      "execution_count": null,
      "metadata": {
        "id": "fpap8UYiH1yM",
        "outputId": "2967ba4e-7b6d-49b9-a8f1-190da4f78eee"
      },
      "outputs": [
        {
          "data": {
            "text/plain": [
              "DatetimeIndex(['2025-01-01', '2025-02-01', '2025-03-01', '2025-04-01',\n",
              "               '2025-05-01', '2025-06-01'],\n",
              "              dtype='datetime64[ns]', freq='MS')"
            ]
          },
          "execution_count": 139,
          "metadata": {},
          "output_type": "execute_result"
        }
      ],
      "source": [
        "dates = pd.date_range('20250101', periods=6, freq='MS')\n",
        "\n",
        "dates"
      ]
    },
    {
      "cell_type": "code",
      "execution_count": null,
      "metadata": {
        "id": "3Y__88PzH1yM",
        "outputId": "c0f1d843-4cc0-4eee-dcd5-023c4e578634"
      },
      "outputs": [
        {
          "data": {
            "text/html": [
              "<div>\n",
              "<style scoped>\n",
              "    .dataframe tbody tr th:only-of-type {\n",
              "        vertical-align: middle;\n",
              "    }\n",
              "\n",
              "    .dataframe tbody tr th {\n",
              "        vertical-align: top;\n",
              "    }\n",
              "\n",
              "    .dataframe thead th {\n",
              "        text-align: right;\n",
              "    }\n",
              "</style>\n",
              "<table border=\"1\" class=\"dataframe\">\n",
              "  <thead>\n",
              "    <tr style=\"text-align: right;\">\n",
              "      <th></th>\n",
              "      <th>A</th>\n",
              "      <th>B</th>\n",
              "      <th>C</th>\n",
              "      <th>D</th>\n",
              "    </tr>\n",
              "  </thead>\n",
              "  <tbody>\n",
              "    <tr>\n",
              "      <th>2025-01-01</th>\n",
              "      <td>0.675894</td>\n",
              "      <td>0.269869</td>\n",
              "      <td>0.071895</td>\n",
              "      <td>0.503488</td>\n",
              "    </tr>\n",
              "    <tr>\n",
              "      <th>2025-02-01</th>\n",
              "      <td>0.622522</td>\n",
              "      <td>0.395387</td>\n",
              "      <td>0.724006</td>\n",
              "      <td>0.660668</td>\n",
              "    </tr>\n",
              "    <tr>\n",
              "      <th>2025-03-01</th>\n",
              "      <td>0.082335</td>\n",
              "      <td>0.861728</td>\n",
              "      <td>0.556956</td>\n",
              "      <td>0.468112</td>\n",
              "    </tr>\n",
              "    <tr>\n",
              "      <th>2025-04-01</th>\n",
              "      <td>0.566816</td>\n",
              "      <td>0.459124</td>\n",
              "      <td>0.664738</td>\n",
              "      <td>0.700881</td>\n",
              "    </tr>\n",
              "    <tr>\n",
              "      <th>2025-05-01</th>\n",
              "      <td>0.155518</td>\n",
              "      <td>0.651777</td>\n",
              "      <td>0.207638</td>\n",
              "      <td>0.167452</td>\n",
              "    </tr>\n",
              "    <tr>\n",
              "      <th>2025-06-01</th>\n",
              "      <td>0.849295</td>\n",
              "      <td>0.418028</td>\n",
              "      <td>0.528348</td>\n",
              "      <td>0.554454</td>\n",
              "    </tr>\n",
              "  </tbody>\n",
              "</table>\n",
              "</div>"
            ],
            "text/plain": [
              "                   A         B         C         D\n",
              "2025-01-01  0.675894  0.269869  0.071895  0.503488\n",
              "2025-02-01  0.622522  0.395387  0.724006  0.660668\n",
              "2025-03-01  0.082335  0.861728  0.556956  0.468112\n",
              "2025-04-01  0.566816  0.459124  0.664738  0.700881\n",
              "2025-05-01  0.155518  0.651777  0.207638  0.167452\n",
              "2025-06-01  0.849295  0.418028  0.528348  0.554454"
            ]
          },
          "execution_count": 140,
          "metadata": {},
          "output_type": "execute_result"
        }
      ],
      "source": [
        "df = pd.DataFrame(np.random.rand(6, 4), index=dates, columns=list('ABCD'))\n",
        "\n",
        "df"
      ]
    },
    {
      "cell_type": "code",
      "execution_count": null,
      "metadata": {
        "id": "5SU2yVqgH1yM",
        "outputId": "ba120dcb-3ee6-45af-b513-59169d66e631"
      },
      "outputs": [
        {
          "data": {
            "text/html": [
              "<div>\n",
              "<style scoped>\n",
              "    .dataframe tbody tr th:only-of-type {\n",
              "        vertical-align: middle;\n",
              "    }\n",
              "\n",
              "    .dataframe tbody tr th {\n",
              "        vertical-align: top;\n",
              "    }\n",
              "\n",
              "    .dataframe thead th {\n",
              "        text-align: right;\n",
              "    }\n",
              "</style>\n",
              "<table border=\"1\" class=\"dataframe\">\n",
              "  <thead>\n",
              "    <tr style=\"text-align: right;\">\n",
              "      <th></th>\n",
              "      <th>A</th>\n",
              "      <th>B</th>\n",
              "      <th>C</th>\n",
              "      <th>D</th>\n",
              "      <th>E</th>\n",
              "      <th>F</th>\n",
              "    </tr>\n",
              "  </thead>\n",
              "  <tbody>\n",
              "    <tr>\n",
              "      <th>0</th>\n",
              "      <td>1.0</td>\n",
              "      <td>2026-03-02</td>\n",
              "      <td>1.0</td>\n",
              "      <td>3</td>\n",
              "      <td>test</td>\n",
              "      <td>foo</td>\n",
              "    </tr>\n",
              "    <tr>\n",
              "      <th>1</th>\n",
              "      <td>1.0</td>\n",
              "      <td>2026-03-02</td>\n",
              "      <td>1.5</td>\n",
              "      <td>3</td>\n",
              "      <td>train</td>\n",
              "      <td>foo</td>\n",
              "    </tr>\n",
              "    <tr>\n",
              "      <th>2</th>\n",
              "      <td>1.0</td>\n",
              "      <td>2026-03-02</td>\n",
              "      <td>2.0</td>\n",
              "      <td>3</td>\n",
              "      <td>test</td>\n",
              "      <td>foo</td>\n",
              "    </tr>\n",
              "    <tr>\n",
              "      <th>3</th>\n",
              "      <td>1.0</td>\n",
              "      <td>2026-03-02</td>\n",
              "      <td>2.5</td>\n",
              "      <td>3</td>\n",
              "      <td>train</td>\n",
              "      <td>foo</td>\n",
              "    </tr>\n",
              "  </tbody>\n",
              "</table>\n",
              "</div>"
            ],
            "text/plain": [
              "     A          B    C  D      E    F\n",
              "0  1.0 2026-03-02  1.0  3   test  foo\n",
              "1  1.0 2026-03-02  1.5  3  train  foo\n",
              "2  1.0 2026-03-02  2.0  3   test  foo\n",
              "3  1.0 2026-03-02  2.5  3  train  foo"
            ]
          },
          "execution_count": 141,
          "metadata": {},
          "output_type": "execute_result"
        }
      ],
      "source": [
        "df2 = pd.DataFrame({\n",
        "        \"A\": 1.0,\n",
        "        \"B\": pd.Timestamp(\"20260302\"),\n",
        "        \"C\": pd.Series(np.arange(1, 3, .5)),\n",
        "        \"D\": np.array([3] * 4, dtype=\"int32\"),\n",
        "        \"E\": pd.Categorical([\"test\", \"train\", \"test\", \"train\"]),\n",
        "        \"F\": \"foo\"\n",
        "      })\n",
        "df2"
      ]
    },
    {
      "cell_type": "code",
      "execution_count": null,
      "metadata": {
        "id": "V2xmioGhH1yN",
        "outputId": "08884a42-19d1-4179-91ac-1072a71bb205"
      },
      "outputs": [
        {
          "data": {
            "text/plain": [
              "A          float64\n",
              "B    datetime64[s]\n",
              "C          float64\n",
              "D            int32\n",
              "E         category\n",
              "F           object\n",
              "dtype: object"
            ]
          },
          "execution_count": 142,
          "metadata": {},
          "output_type": "execute_result"
        }
      ],
      "source": [
        "df2.dtypes"
      ]
    },
    {
      "cell_type": "markdown",
      "metadata": {
        "id": "9QSPS0UnH1yN"
      },
      "source": [
        "---------------"
      ]
    },
    {
      "cell_type": "code",
      "execution_count": null,
      "metadata": {
        "id": "nexcUy6OH1yN"
      },
      "outputs": [],
      "source": []
    }
  ],
  "metadata": {
    "colab": {
      "provenance": [],
      "include_colab_link": true
    },
    "kernelspec": {
      "display_name": "dmu",
      "language": "python",
      "name": "python3"
    },
    "language_info": {
      "codemirror_mode": {
        "name": "ipython",
        "version": 3
      },
      "file_extension": ".py",
      "mimetype": "text/x-python",
      "name": "python",
      "nbconvert_exporter": "python",
      "pygments_lexer": "ipython3",
      "version": "3.12.5"
    }
  },
  "nbformat": 4,
  "nbformat_minor": 0
}